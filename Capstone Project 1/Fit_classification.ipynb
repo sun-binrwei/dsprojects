{
 "cells": [
  {
   "cell_type": "code",
   "execution_count": 35,
   "metadata": {
    "collapsed": true
   },
   "outputs": [],
   "source": [
    "%matplotlib inline\n",
    "import numpy as np\n",
    "import pandas as pd\n",
    "import matplotlib.pyplot as plt\n",
    "import seaborn as sns\n",
    "from pandas.tseries.holiday import USFederalHolidayCalendar as calendar\n",
    "from sklearn import preprocessing, svm, metrics, decomposition\n",
    "from sklearn.linear_model import SGDClassifier, SGDRegressor\n",
    "from sklearn.model_selection import train_test_split, KFold\n",
    "import pickle"
   ]
  },
  {
   "cell_type": "code",
   "execution_count": null,
   "metadata": {},
   "outputs": [],
   "source": [
    "# Import data from csv\n",
    "'''\n",
    "%%time\n",
    "stations = pd.read_csv('data_raw/babs_open_data_year_3/201608_station_data.csv', skipinitialspace= True)\n",
    "status = pd.read_csv('data_raw/babs_open_data_year_3/201608_status_data.csv', \n",
    "                     parse_dates = [3], infer_datetime_format = True, skipinitialspace= True)\n",
    "trips = pd.read_csv('data_raw/babs_open_data_year_3/201608_trip_data.csv', \n",
    "                   parse_dates = ['Start Date', 'End Date'], infer_datetime_format = True, skipinitialspace= True)\n",
    "weathers = pd.read_csv('data_raw/babs_open_data_year_3/201608_weather_data.csv',\n",
    "                      parse_dates = ['PDT'], infer_datetime_format = True, skipinitialspace= True)\n",
    "'''"
   ]
  },
  {
   "cell_type": "code",
   "execution_count": null,
   "metadata": {},
   "outputs": [],
   "source": [
    "# Drop missing data where the columns or rows are nan\n",
    "'''\n",
    "stations = stations.dropna(how = 'all')\n",
    "status = status.dropna(how = 'all')\n",
    "trips = trips.dropna(how = 'all')\n",
    "weathers = weathers.dropna(how = 'all')\n",
    "'''"
   ]
  },
  {
   "cell_type": "code",
   "execution_count": null,
   "metadata": {},
   "outputs": [],
   "source": [
    "# Save the dataframe objects into files with pickle, saving time for loading the file\n",
    "'''\n",
    "stationfile = open(\"data_cleaned/stations_data\",\"wb\")\n",
    "tripfile = open(\"data_cleaned/trips_data\",\"wb\")\n",
    "weatherfile = open(\"data_cleaned/weathers_data\",\"wb\")\n",
    "statusfile = open(\"data_cleaned/status_data\",\"wb\")\n",
    "pickle.dump(stations, stationfile)\n",
    "pickle.dump(trips, tripfile)\n",
    "pickle.dump(weathers, weatherfile)\n",
    "pickle.dump(status, statusfile)\n",
    "stationfile.close()\n",
    "tripfile.close()\n",
    "weatherfile.close()\n",
    "statusfile.close()\n",
    "'''"
   ]
  },
  {
   "cell_type": "code",
   "execution_count": 36,
   "metadata": {
    "collapsed": true
   },
   "outputs": [],
   "source": [
    "# Load data from pickled file\n",
    "#%%time\n",
    "stationfile = open(\"data_cleaned/stations_data\",\"rb\")\n",
    "tripfile = open(\"data_cleaned/trips_data\",\"rb\")\n",
    "weatherfile = open(\"data_cleaned/weathers_data\",\"rb\")\n",
    "statusfile = open(\"data_cleaned/status_data\",\"rb\")\n",
    "stations = pickle.load(stationfile)\n",
    "trips = pickle.load(tripfile)\n",
    "weathers = pickle.load(weatherfile)\n",
    "status = pickle.load(statusfile)\n",
    "cal = calendar()\n",
    "holidays = cal.holidays(start = trips['Start Date'].min(), end = trips['Start Date'].max())"
   ]
  },
  {
   "cell_type": "markdown",
   "metadata": {},
   "source": [
    "# Introduction\n",
    "\n",
    "The purpose of this document is to predict the demand of each station in a giving time.\n",
    "The procedures are as followed:\n",
    "1. Define 'demand' as number of bike borrowed from one station in a given time period. We'll further classified the demand to 5 levels, from 1 to 5, each will represent 20% quantile of the demand distribution.\n",
    "\n",
    "2. From the previous data exploration, we've identified that the station(location), date, time and temperature are the important factors impacting the demand. We'll use those factors to train the data.\n",
    "\n",
    "3. We'll train the model using the dataset in 2016. However, we'll expend the training set to the datasets from 2013 to 2016."
   ]
  },
  {
   "cell_type": "markdown",
   "metadata": {},
   "source": [
    "# Define demand\n",
    "We'll define demand as number of bike will be borrowed in the future 15 minutes. Therefore, we will have 4 period in each hour. "
   ]
  },
  {
   "cell_type": "code",
   "execution_count": 37,
   "metadata": {
    "collapsed": true
   },
   "outputs": [],
   "source": [
    "# Define demand column by counting the number of bike borrowed in particular station in the next 1 Hour\n",
    "t = trips.set_index('Start Date')\n",
    "t = t.groupby([pd.TimeGrouper('H'), 'Start Terminal']).size().unstack('Start Terminal').fillna(0)\n",
    "t = t.stack().reset_index('Start Terminal')\n",
    "t = t.rename(columns = {0: 'Demand'})\n",
    "\n",
    "# Parse out the time details\n",
    "t['year'] = t.index.year\n",
    "t['month'] = t.index.month\n",
    "t['day'] = t.index.day\n",
    "t['hour'] = t.index.hour\n",
    "t['min'] = t.index.minute\n",
    "\n",
    "# Set up workday\n",
    "t['PDT'] = t.index.date\n",
    "t['PDT'] = pd.to_datetime(t.PDT)\n",
    "t = t.reset_index()\n",
    "weekday = t['Start Date'].dt.weekday\n",
    "t['workday'] = weekday.isin([0,1,2,3,4]) & (t['Start Date'].isin(holidays) == False)"
   ]
  },
  {
   "cell_type": "code",
   "execution_count": 38,
   "metadata": {
    "collapsed": true
   },
   "outputs": [],
   "source": [
    "# Clean data in weathers  \n",
    "w = weathers\n",
    "w.PrecipitationIn = w.PrecipitationIn.replace('T', '0.005')\n",
    "w.PrecipitationIn = pd.to_numeric(w.PrecipitationIn)\n",
    "w = w.drop(['Max Gust SpeedMPH', 'Events'], axis = 'columns')\n",
    "w = w.fillna(w.mean())\n",
    "ziplocation = {94107:'San Francisco', 94301:'Palo Alto', 94041:'Mountain View', 95113:'San Jose'}\n",
    "w['landmark'] = w.ZIP.map(ziplocation)\n",
    "\n",
    "# Join data with stations and weathers\n",
    "s = stations.set_index('station_id').loc[:, ['lat', 'long', 'dockcount', 'landmark']]\n",
    "m = pd.merge(t, s, how ='inner', left_on='Start Terminal', right_index= True)\n",
    "\n",
    "m = pd.merge(m, w, how ='inner', left_on = ['PDT', 'landmark'], right_on = ['PDT', 'landmark'])\n",
    "m = m.dropna(axis =1, how='all')"
   ]
  },
  {
   "cell_type": "code",
   "execution_count": 125,
   "metadata": {
    "collapsed": true
   },
   "outputs": [],
   "source": [
    "# First predict smaller dataset for validating the model\n",
    "# Predict the 3 most demanded stations\n",
    "t_station = m.groupby(by = 'Start Terminal').sum().sort_values(by = 'Demand', ascending = False).index.tolist()[:3]\n",
    "m = m[m['Start Terminal'].isin(t_station)]"
   ]
  },
  {
   "cell_type": "code",
   "execution_count": 126,
   "metadata": {
    "collapsed": true
   },
   "outputs": [],
   "source": [
    "# Parse the features to X, label to y\n",
    "X = m.drop(['Start Date', 'PDT','min','Demand','year','Max VisibilityMiles','dockcount','ZIP'], axis = 1)\n",
    "X = pd.get_dummies(X, prefix= ['workday','landmark'], columns = ['workday','landmark'], drop_first=True)\n",
    "X = X.as_matrix()\n",
    "y = m.Demand.as_matrix()"
   ]
  },
  {
   "cell_type": "code",
   "execution_count": 127,
   "metadata": {},
   "outputs": [
    {
     "data": {
      "text/plain": [
       "(23688, 26)"
      ]
     },
     "execution_count": 127,
     "metadata": {},
     "output_type": "execute_result"
    }
   ],
   "source": [
    "np.shape(X)"
   ]
  },
  {
   "cell_type": "code",
   "execution_count": 128,
   "metadata": {
    "collapsed": true
   },
   "outputs": [],
   "source": [
    "#Reduce dimension of features by using PCA\n",
    "pca = decomposition.PCA()\n",
    "Xn = pca.fit_transform(X)"
   ]
  },
  {
   "cell_type": "code",
   "execution_count": 129,
   "metadata": {},
   "outputs": [
    {
     "data": {
      "image/png": "[encoded data removed]",
      "text/plain": [
       "<matplotlib.figure.Figure at 0x118924630>"
      ]
     },
     "metadata": {},
     "output_type": "display_data"
    }
   ],
   "source": [
    "# Analyze the 'explained varience ratio' to each 'Principal Component'\n",
    "x_pca = list(range(1,27))\n",
    "y_v = pca.explained_variance_ratio_\n",
    "plt.plot(x_pca, y_v)\n",
    "plt.xlabel('Principal component')\n",
    "plt.ylabel('Explained varience ratio')\n",
    "plt.xlim(1,26);"
   ]
  },
  {
   "cell_type": "code",
   "execution_count": 130,
   "metadata": {},
   "outputs": [
    {
     "name": "stdout",
     "output_type": "stream",
     "text": [
      "Total explained varience ratio using 5 principal component: 96.29 %\n"
     ]
    },
    {
     "data": {
      "image/png": "[encoded data removed]",
      "text/plain": [
       "<matplotlib.figure.Figure at 0x1196f81d0>"
      ]
     },
     "metadata": {},
     "output_type": "display_data"
    }
   ],
   "source": [
    "sumv = [0]\n",
    "x_pca = list(range(0,27))\n",
    "for i in range(len(y_v)):\n",
    "    sumv.append(sum(y_v[:i+1]))\n",
    "plt.plot(x_pca, sumv);\n",
    "plt.xlabel('Number of principal component used');\n",
    "plt.ylabel('Total explained varience ratio');\n",
    "print('Total explained varience ratio using 5 principal component:',round(sumv[4]*100,2),'%')"
   ]
  },
  {
   "cell_type": "code",
   "execution_count": 131,
   "metadata": {
    "collapsed": true
   },
   "outputs": [],
   "source": [
    "pca = decomposition.PCA(n_components=5)\n",
    "X = pca.fit_transform(X)"
   ]
  },
  {
   "cell_type": "code",
   "execution_count": 132,
   "metadata": {
    "collapsed": true
   },
   "outputs": [],
   "source": [
    "# Categorize demand into three category, no demand = 0, normal = 1~5, high demand = >5\n",
    "def catg(y):\n",
    "    if y == 0:\n",
    "        return 0\n",
    "    elif y<=5:\n",
    "        return 1\n",
    "    else:\n",
    "        return 2\n",
    "\n",
    "y = np.array(list(map(catg, y)))"
   ]
  },
  {
   "cell_type": "code",
   "execution_count": 133,
   "metadata": {},
   "outputs": [],
   "source": [
    "# normalize data\n",
    "scl= preprocessing.StandardScaler()\n",
    "X = scl.fit_transform(X)"
   ]
  },
  {
   "cell_type": "code",
   "execution_count": 134,
   "metadata": {
    "collapsed": true
   },
   "outputs": [],
   "source": [
    "Xlr, Xtestlr, ylr, ytestlr = train_test_split(X, y)"
   ]
  },
  {
   "cell_type": "code",
   "execution_count": 135,
   "metadata": {
    "collapsed": true
   },
   "outputs": [],
   "source": [
    "# Define function for cross validation test\n",
    "def cv_score(clf, x, y, score_func=metrics.accuracy_score):\n",
    "    result = 0\n",
    "    nfold = 5\n",
    "    for train, test in KFold(nfold).split(x): # split data into train/test groups, 5 times\n",
    "        clf.fit(x[train], y[train], sample_weight= (y[train]+1)) # fit\n",
    "        result += score_func(clf.predict(x[test]), y[test]) # evaluate score function on held-out data\n",
    "    return result / nfold # average"
   ]
  },
  {
   "cell_type": "code",
   "execution_count": 136,
   "metadata": {},
   "outputs": [
    {
     "name": "stderr",
     "output_type": "stream",
     "text": [
      "/Users/Robin/anaconda/lib/python3.6/site-packages/sklearn/svm/base.py:220: ConvergenceWarning: Solver terminated early (max_iter=100).  Consider pre-processing your data with StandardScaler or MinMaxScaler.\n",
      "  % self.max_iter, ConvergenceWarning)\n"
     ]
    },
    {
     "data": {
      "text/html": [
       "<div>\n",
       "<style>\n",
       "    .dataframe thead tr:only-child th {\n",
       "        text-align: right;\n",
       "    }\n",
       "\n",
       "    .dataframe thead th {\n",
       "        text-align: left;\n",
       "    }\n",
       "\n",
       "    .dataframe tbody tr th {\n",
       "        vertical-align: top;\n",
       "    }\n",
       "</style>\n",
       "<table border=\"1\" class=\"dataframe\">\n",
       "  <thead>\n",
       "    <tr style=\"text-align: right;\">\n",
       "      <th></th>\n",
       "      <th>1</th>\n",
       "      <th>10</th>\n",
       "      <th>100</th>\n",
       "      <th>1000</th>\n",
       "      <th>10000</th>\n",
       "      <th>100000</th>\n",
       "      <th>1000000</th>\n",
       "      <th>10000000</th>\n",
       "      <th>100000000</th>\n",
       "    </tr>\n",
       "  </thead>\n",
       "  <tbody>\n",
       "    <tr>\n",
       "      <th>0.1</th>\n",
       "      <td>0.277214</td>\n",
       "      <td>0.403129</td>\n",
       "      <td>0.416354</td>\n",
       "      <td>0.410392</td>\n",
       "      <td>0.390124</td>\n",
       "      <td>0.444839</td>\n",
       "      <td>0.442756</td>\n",
       "      <td>0.415404</td>\n",
       "      <td>0.412537</td>\n",
       "    </tr>\n",
       "    <tr>\n",
       "      <th>0.3</th>\n",
       "      <td>0.132219</td>\n",
       "      <td>0.431215</td>\n",
       "      <td>0.415454</td>\n",
       "      <td>0.396935</td>\n",
       "      <td>0.44366</td>\n",
       "      <td>0.454351</td>\n",
       "      <td>0.459812</td>\n",
       "      <td>0.457503</td>\n",
       "      <td>0.457334</td>\n",
       "    </tr>\n",
       "    <tr>\n",
       "      <th>0.5</th>\n",
       "      <td>0.217443</td>\n",
       "      <td>0.427106</td>\n",
       "      <td>0.412137</td>\n",
       "      <td>0.452943</td>\n",
       "      <td>0.448665</td>\n",
       "      <td>0.462512</td>\n",
       "      <td>0.457334</td>\n",
       "      <td>0.445176</td>\n",
       "      <td>0.444388</td>\n",
       "    </tr>\n",
       "    <tr>\n",
       "      <th>0.7</th>\n",
       "      <td>0.215641</td>\n",
       "      <td>0.377964</td>\n",
       "      <td>0.415903</td>\n",
       "      <td>0.426604</td>\n",
       "      <td>0.441967</td>\n",
       "      <td>0.451649</td>\n",
       "      <td>0.459134</td>\n",
       "      <td>0.469942</td>\n",
       "      <td>0.472926</td>\n",
       "    </tr>\n",
       "    <tr>\n",
       "      <th>0.9</th>\n",
       "      <td>0.2278</td>\n",
       "      <td>0.395363</td>\n",
       "      <td>0.325337</td>\n",
       "      <td>0.453619</td>\n",
       "      <td>0.460373</td>\n",
       "      <td>0.475853</td>\n",
       "      <td>0.472307</td>\n",
       "      <td>0.453281</td>\n",
       "      <td>0.452718</td>\n",
       "    </tr>\n",
       "    <tr>\n",
       "      <th>1.1</th>\n",
       "      <td>0.138129</td>\n",
       "      <td>0.405889</td>\n",
       "      <td>0.374029</td>\n",
       "      <td>0.366486</td>\n",
       "      <td>0.472645</td>\n",
       "      <td>0.457338</td>\n",
       "      <td>0.460542</td>\n",
       "      <td>0.479512</td>\n",
       "      <td>0.461274</td>\n",
       "    </tr>\n",
       "    <tr>\n",
       "      <th>1.3</th>\n",
       "      <td>0.231346</td>\n",
       "      <td>0.45024</td>\n",
       "      <td>0.39221</td>\n",
       "      <td>0.443998</td>\n",
       "      <td>0.415116</td>\n",
       "      <td>0.450747</td>\n",
       "      <td>0.463919</td>\n",
       "      <td>0.462681</td>\n",
       "      <td>0.480075</td>\n",
       "    </tr>\n",
       "    <tr>\n",
       "      <th>1.5</th>\n",
       "      <td>0.230332</td>\n",
       "      <td>0.424403</td>\n",
       "      <td>0.425929</td>\n",
       "      <td>0.400874</td>\n",
       "      <td>0.475797</td>\n",
       "      <td>0.478949</td>\n",
       "      <td>0.439095</td>\n",
       "      <td>0.421998</td>\n",
       "      <td>0.421716</td>\n",
       "    </tr>\n",
       "    <tr>\n",
       "      <th>1.7</th>\n",
       "      <td>0.177858</td>\n",
       "      <td>0.356179</td>\n",
       "      <td>0.377631</td>\n",
       "      <td>0.388041</td>\n",
       "      <td>0.47377</td>\n",
       "      <td>0.473432</td>\n",
       "      <td>0.479793</td>\n",
       "      <td>0.477598</td>\n",
       "      <td>0.477541</td>\n",
       "    </tr>\n",
       "    <tr>\n",
       "      <th>1.9</th>\n",
       "      <td>0.222607</td>\n",
       "      <td>0.339072</td>\n",
       "      <td>0.435666</td>\n",
       "      <td>0.472644</td>\n",
       "      <td>0.460711</td>\n",
       "      <td>0.462286</td>\n",
       "      <td>0.481425</td>\n",
       "      <td>0.480074</td>\n",
       "      <td>0.480074</td>\n",
       "    </tr>\n",
       "  </tbody>\n",
       "</table>\n",
       "</div>"
      ],
      "text/plain": [
       "    1         10        100       1000      10000     100000    1000000    \\\n",
       "0.1  0.277214  0.403129  0.416354  0.410392  0.390124  0.444839  0.442756   \n",
       "0.3  0.132219  0.431215  0.415454  0.396935   0.44366  0.454351  0.459812   \n",
       "0.5  0.217443  0.427106  0.412137  0.452943  0.448665  0.462512  0.457334   \n",
       "0.7  0.215641  0.377964  0.415903  0.426604  0.441967  0.451649  0.459134   \n",
       "0.9    0.2278  0.395363  0.325337  0.453619  0.460373  0.475853  0.472307   \n",
       "1.1  0.138129  0.405889  0.374029  0.366486  0.472645  0.457338  0.460542   \n",
       "1.3  0.231346   0.45024   0.39221  0.443998  0.415116  0.450747  0.463919   \n",
       "1.5  0.230332  0.424403  0.425929  0.400874  0.475797  0.478949  0.439095   \n",
       "1.7  0.177858  0.356179  0.377631  0.388041   0.47377  0.473432  0.479793   \n",
       "1.9  0.222607  0.339072  0.435666  0.472644  0.460711  0.462286  0.481425   \n",
       "\n",
       "    10000000  100000000  \n",
       "0.1  0.415404  0.412537  \n",
       "0.3  0.457503  0.457334  \n",
       "0.5  0.445176  0.444388  \n",
       "0.7  0.469942  0.472926  \n",
       "0.9  0.453281  0.452718  \n",
       "1.1  0.479512  0.461274  \n",
       "1.3  0.462681  0.480075  \n",
       "1.5  0.421998  0.421716  \n",
       "1.7  0.477598  0.477541  \n",
       "1.9  0.480074  0.480074  "
      ]
     },
     "execution_count": 136,
     "metadata": {},
     "output_type": "execute_result"
    }
   ],
   "source": [
    "# Find the best gamma and C\n",
    "\n",
    "Cs = [1, 10, 100, 1000, 10000, 100000, 1000000, 10000000, 100000000]\n",
    "Gs = np.arange(0.1, 2, 0.2)\n",
    "score = pd.DataFrame(index=Gs, columns = Cs)\n",
    "\n",
    "for c in Cs:\n",
    "    for g in Gs:\n",
    "        clf = svm.SVC(gamma = g, C = c, max_iter=100)\n",
    "        score.loc[g,c] = cv_score(clf, Xlr, ylr)\n",
    "\n",
    "score"
   ]
  },
  {
   "cell_type": "code",
   "execution_count": 156,
   "metadata": {},
   "outputs": [],
   "source": [
    "clf = svm.SVC(gamma = 1.9, C=1000000, max_iter=1000000)"
   ]
  },
  {
   "cell_type": "code",
   "execution_count": 157,
   "metadata": {},
   "outputs": [
    {
     "name": "stdout",
     "output_type": "stream",
     "text": [
      "CPU times: user 4min 31s, sys: 1.82 s, total: 4min 33s\n",
      "Wall time: 4min 37s\n"
     ]
    },
    {
     "name": "stderr",
     "output_type": "stream",
     "text": [
      "/Users/Robin/anaconda/lib/python3.6/site-packages/sklearn/svm/base.py:220: ConvergenceWarning: Solver terminated early (max_iter=1000000).  Consider pre-processing your data with StandardScaler or MinMaxScaler.\n",
      "  % self.max_iter, ConvergenceWarning)\n"
     ]
    },
    {
     "data": {
      "text/plain": [
       "SVC(C=1000000, cache_size=200, class_weight=None, coef0=0.0,\n",
       "  decision_function_shape=None, degree=3, gamma=1.9, kernel='rbf',\n",
       "  max_iter=1000000, probability=False, random_state=None, shrinking=True,\n",
       "  tol=0.001, verbose=False)"
      ]
     },
     "execution_count": 157,
     "metadata": {},
     "output_type": "execute_result"
    }
   ],
   "source": [
    "%%time\n",
    "clf.fit(Xlr,ylr)"
   ]
  },
  {
   "cell_type": "code",
   "execution_count": 154,
   "metadata": {},
   "outputs": [
    {
     "name": "stdout",
     "output_type": "stream",
     "text": [
      "             precision    recall  f1-score   support\n",
      "\n",
      "          0       0.69      0.48      0.56      4060\n",
      "          1       0.29      0.39      0.33      1740\n",
      "          2       0.01      0.09      0.02       122\n",
      "\n",
      "avg / total       0.56      0.44      0.48      5922\n",
      "\n"
     ]
    }
   ],
   "source": [
    "predicted = clf.predict(Xtestlr)\n",
    "print(metrics.classification_report(predicted,ytestlr))"
   ]
  },
  {
   "cell_type": "code",
   "execution_count": 155,
   "metadata": {},
   "outputs": [
    {
     "data": {
      "text/plain": [
       "0.44258696386355961"
      ]
     },
     "execution_count": 155,
     "metadata": {},
     "output_type": "execute_result"
    }
   ],
   "source": [
    "clf.score(Xtestlr,ytestlr)"
   ]
  },
  {
   "cell_type": "code",
   "execution_count": null,
   "metadata": {
    "collapsed": true
   },
   "outputs": [],
   "source": []
  },
  {
   "cell_type": "code",
   "execution_count": null,
   "metadata": {
    "collapsed": true
   },
   "outputs": [],
   "source": []
  },
  {
   "cell_type": "code",
   "execution_count": null,
   "metadata": {
    "collapsed": true
   },
   "outputs": [],
   "source": []
  },
  {
   "cell_type": "code",
   "execution_count": null,
   "metadata": {
    "collapsed": true
   },
   "outputs": [],
   "source": []
  },
  {
   "cell_type": "code",
   "execution_count": null,
   "metadata": {
    "collapsed": true
   },
   "outputs": [],
   "source": []
  },
  {
   "cell_type": "code",
   "execution_count": null,
   "metadata": {
    "collapsed": true
   },
   "outputs": [],
   "source": []
  },
  {
   "cell_type": "code",
   "execution_count": null,
   "metadata": {
    "collapsed": true
   },
   "outputs": [],
   "source": []
  },
  {
   "cell_type": "code",
   "execution_count": null,
   "metadata": {
    "collapsed": true
   },
   "outputs": [],
   "source": []
  },
  {
   "cell_type": "code",
   "execution_count": null,
   "metadata": {
    "collapsed": true
   },
   "outputs": [],
   "source": []
  },
  {
   "cell_type": "code",
   "execution_count": null,
   "metadata": {
    "collapsed": true
   },
   "outputs": [],
   "source": []
  },
  {
   "cell_type": "code",
   "execution_count": null,
   "metadata": {
    "collapsed": true
   },
   "outputs": [],
   "source": []
  }
 ],
 "metadata": {
  "kernelspec": {
   "display_name": "Python 3",
   "language": "python",
   "name": "python3"
  },
  "language_info": {
   "codemirror_mode": {
    "name": "ipython",
    "version": 3
   },
   "file_extension": ".py",
   "mimetype": "text/x-python",
   "name": "python",
   "nbconvert_exporter": "python",
   "pygments_lexer": "ipython3",
   "version": "3.6.1"
  }
 },
 "nbformat": 4,
 "nbformat_minor": 2
}
