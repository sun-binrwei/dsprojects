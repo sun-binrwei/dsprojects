{
 "cells": [
  {
   "cell_type": "code",
   "execution_count": 232,
   "metadata": {
    "collapsed": true
   },
   "outputs": [],
   "source": [
    "%matplotlib inline\n",
    "import numpy as np\n",
    "import pandas as pd\n",
    "import matplotlib.pyplot as plt\n",
    "import seaborn as sns\n",
    "from pandas.tseries.holiday import USFederalHolidayCalendar as calendar\n",
    "from sklearn import preprocessing, svm, metrics, decomposition\n",
    "from sklearn.linear_model import SGDClassifier, SGDRegressor, Ridge\n",
    "from sklearn.model_selection import train_test_split, KFold\n",
    "import pickle\n",
    "from scipy.stats import gaussian_kde"
   ]
  },
  {
   "cell_type": "code",
   "execution_count": null,
   "metadata": {
    "collapsed": true
   },
   "outputs": [],
   "source": [
    "# Import data from csv\n",
    "'''\n",
    "%%time\n",
    "stations = pd.read_csv('data_raw/babs_open_data_year_3/201608_station_data.csv', skipinitialspace= True)\n",
    "status = pd.read_csv('data_raw/babs_open_data_year_3/201608_status_data.csv', \n",
    "                     parse_dates = [3], infer_datetime_format = True, skipinitialspace= True)\n",
    "trips = pd.read_csv('data_raw/babs_open_data_year_3/201608_trip_data.csv', \n",
    "                   parse_dates = ['Start Date', 'End Date'], infer_datetime_format = True, skipinitialspace= True)\n",
    "weathers = pd.read_csv('data_raw/babs_open_data_year_3/201608_weather_data.csv',\n",
    "                      parse_dates = ['PDT'], infer_datetime_format = True, skipinitialspace= True)\n",
    "'''"
   ]
  },
  {
   "cell_type": "code",
   "execution_count": null,
   "metadata": {
    "collapsed": true
   },
   "outputs": [],
   "source": [
    "# Drop missing data where the columns or rows are nan\n",
    "'''\n",
    "stations = stations.dropna(how = 'all')\n",
    "status = status.dropna(how = 'all')\n",
    "trips = trips.dropna(how = 'all')\n",
    "weathers = weathers.dropna(how = 'all')\n",
    "'''"
   ]
  },
  {
   "cell_type": "code",
   "execution_count": null,
   "metadata": {
    "collapsed": true
   },
   "outputs": [],
   "source": [
    "# Save the dataframe objects into files with pickle, saving time for loading the file\n",
    "'''\n",
    "stationfile = open(\"data_cleaned/stations_data\",\"wb\")\n",
    "tripfile = open(\"data_cleaned/trips_data\",\"wb\")\n",
    "weatherfile = open(\"data_cleaned/weathers_data\",\"wb\")\n",
    "statusfile = open(\"data_cleaned/status_data\",\"wb\")\n",
    "pickle.dump(stations, stationfile)\n",
    "pickle.dump(trips, tripfile)\n",
    "pickle.dump(weathers, weatherfile)\n",
    "pickle.dump(status, statusfile)\n",
    "stationfile.close()\n",
    "tripfile.close()\n",
    "weatherfile.close()\n",
    "statusfile.close()\n",
    "'''"
   ]
  },
  {
   "cell_type": "code",
   "execution_count": 246,
   "metadata": {
    "collapsed": true
   },
   "outputs": [],
   "source": [
    "# Load data from pickled file\n",
    "#%%time\n",
    "stationfile = open(\"data_cleaned/stations_data\",\"rb\")\n",
    "tripfile = open(\"data_cleaned/trips_data\",\"rb\")\n",
    "weatherfile = open(\"data_cleaned/weathers_data\",\"rb\")\n",
    "statusfile = open(\"data_cleaned/status_data\",\"rb\")\n",
    "stations = pickle.load(stationfile)\n",
    "trips = pickle.load(tripfile)\n",
    "weathers = pickle.load(weatherfile)\n",
    "status = pickle.load(statusfile)\n",
    "cal = calendar()\n",
    "holidays = cal.holidays(start = trips['Start Date'].min(), end = trips['Start Date'].max())"
   ]
  },
  {
   "cell_type": "markdown",
   "metadata": {},
   "source": [
    "# Introduction\n",
    "\n",
    "The purpose of this document is to predict the demand of each station in a giving time.\n",
    "The procedures are as followed:\n",
    "1. Define 'demand' as number of bike borrowed from one station in a given time period. We'll further classified the demand to 5 levels, from 1 to 5, each will represent 20% quantile of the demand distribution.\n",
    "\n",
    "2. From the previous data exploration, we've identified that the station(location), date, time and temperature are the important factors impacting the demand. We'll use those factors to train the data.\n",
    "\n",
    "3. We'll train the model using the dataset in 2016. However, we'll expend the training set to the datasets from 2013 to 2016."
   ]
  },
  {
   "cell_type": "markdown",
   "metadata": {},
   "source": [
    "# Define demand\n",
    "We'll define demand as number of bike will be borrowed in the future 15 minutes. Therefore, we will have 4 period in each hour. "
   ]
  },
  {
   "cell_type": "code",
   "execution_count": 247,
   "metadata": {
    "collapsed": true
   },
   "outputs": [],
   "source": [
    "# Define demand column by counting the number of bike borrowed in particular station in the next 1 Hour\n",
    "t = trips.set_index('Start Date')\n",
    "t = t.groupby([pd.TimeGrouper('H'), 'Start Terminal']).size().unstack('Start Terminal').fillna(0)\n",
    "t = t.stack().reset_index('Start Terminal')\n",
    "t = t.rename(columns = {0: 'Demand'})\n",
    "\n",
    "# Parse out the time details\n",
    "t['year'] = t.index.year\n",
    "t['month'] = t.index.month\n",
    "t['day'] = t.index.day\n",
    "t['hour'] = t.index.hour\n",
    "\n",
    "# Set up workday\n",
    "t['PDT'] = t.index.date\n",
    "t['PDT'] = pd.to_datetime(t.PDT)\n",
    "t = t.reset_index()\n",
    "weekday = t['Start Date'].dt.weekday\n",
    "t['workday'] = weekday.isin([0,1,2,3,4]) & (t['Start Date'].isin(holidays) == False)"
   ]
  },
  {
   "cell_type": "code",
   "execution_count": 248,
   "metadata": {
    "collapsed": true
   },
   "outputs": [],
   "source": [
    "# Clean data in weathers  \n",
    "w = weathers\n",
    "w.PrecipitationIn = w.PrecipitationIn.replace('T', '0.005')\n",
    "w.PrecipitationIn = pd.to_numeric(w.PrecipitationIn)\n",
    "w = w.drop(['Max Gust SpeedMPH', 'Events'], axis = 'columns')\n",
    "w = w.fillna(w.mean())\n",
    "ziplocation = {94107:'San Francisco', 94301:'Palo Alto', 94041:'Mountain View', 95113:'San Jose'}\n",
    "w['landmark'] = w.ZIP.map(ziplocation)\n",
    "\n",
    "# Join data with stations and weathers\n",
    "s = stations.set_index('station_id').loc[:, ['lat', 'long', 'dockcount', 'landmark']]\n",
    "m = pd.merge(t, s, how ='inner', left_on='Start Terminal', right_index= True)\n",
    "\n",
    "m = pd.merge(m, w, how ='inner', left_on = ['PDT', 'landmark'], right_on = ['PDT', 'landmark'])\n",
    "m = m.dropna(axis =1, how='all')"
   ]
  },
  {
   "cell_type": "code",
   "execution_count": 249,
   "metadata": {
    "collapsed": true
   },
   "outputs": [],
   "source": [
    "# First predict smaller dataset for validating the model\n",
    "# Predict the 3 most demanded stations\n",
    "t_station = m.groupby(by = 'Start Terminal').sum().sort_values(by = 'Demand', ascending = False).index.tolist()[:3]\n",
    "m = m[m['Start Terminal'].isin(t_station)]"
   ]
  },
  {
   "cell_type": "code",
   "execution_count": 251,
   "metadata": {},
   "outputs": [],
   "source": [
    "# Parse the features to X, label to y\n",
    "X = m.drop(['Start Date', 'PDT','Demand','year','Max VisibilityMiles','dockcount','ZIP'], axis = 1)\n",
    "X = pd.get_dummies(X, prefix= ['hour','Start Terminal','workday','landmark'], \n",
    "                   columns = ['hour','Start Terminal','workday','landmark'], drop_first=True)\n",
    "X = X.as_matrix()\n",
    "y = m.Demand.as_matrix()"
   ]
  },
  {
   "cell_type": "code",
   "execution_count": 252,
   "metadata": {},
   "outputs": [
    {
     "data": {
      "text/plain": [
       "(23688, 49)"
      ]
     },
     "execution_count": 252,
     "metadata": {},
     "output_type": "execute_result"
    }
   ],
   "source": [
    "np.shape(X)"
   ]
  },
  {
   "cell_type": "code",
   "execution_count": 253,
   "metadata": {
    "collapsed": true
   },
   "outputs": [],
   "source": [
    "#Reduce dimension of features by using PCA\n",
    "pca = decomposition.PCA()\n",
    "Xn = pca.fit_transform(X)"
   ]
  },
  {
   "cell_type": "code",
   "execution_count": 254,
   "metadata": {},
   "outputs": [
    {
     "data": {
      "image/png": "[encoded data removed]",
      "text/plain": [
       "<matplotlib.figure.Figure at 0x1190da0f0>"
      ]
     },
     "metadata": {},
     "output_type": "display_data"
    }
   ],
   "source": [
    "# Analyze the 'explained varience ratio' to each 'Principal Component'\n",
    "x_pca = list(range(1, np.shape(X)[1]+1))\n",
    "y_v = pca.explained_variance_ratio_\n",
    "plt.plot(x_pca, y_v)\n",
    "plt.xlabel('Principal component')\n",
    "plt.ylabel('Explained varience ratio')\n",
    "plt.xlim(1,np.shape(X)[1]);"
   ]
  },
  {
   "cell_type": "code",
   "execution_count": 255,
   "metadata": {},
   "outputs": [
    {
     "name": "stdout",
     "output_type": "stream",
     "text": [
      "Total explained varience ratio using 5 principal component: 98.03 %\n"
     ]
    },
    {
     "data": {
      "image/png": "[encoded data removed]",
      "text/plain": [
       "<matplotlib.figure.Figure at 0x1190cb3c8>"
      ]
     },
     "metadata": {},
     "output_type": "display_data"
    }
   ],
   "source": [
    "sumv = [0]\n",
    "x_pca = list(range(0,np.shape(X)[1]+1))\n",
    "for i in range(len(y_v)):\n",
    "    sumv.append(sum(y_v[:i+1]))\n",
    "plt.plot(x_pca, sumv);\n",
    "plt.xlabel('Number of principal component used');\n",
    "plt.ylabel('Total explained varience ratio');\n",
    "print('Total explained varience ratio using 5 principal component:',round(sumv[4]*100,2),'%')"
   ]
  },
  {
   "cell_type": "code",
   "execution_count": 256,
   "metadata": {
    "collapsed": true
   },
   "outputs": [],
   "source": [
    "pca = decomposition.PCA(n_components=5)\n",
    "X = pca.fit_transform(X)"
   ]
  },
  {
   "cell_type": "code",
   "execution_count": 257,
   "metadata": {},
   "outputs": [],
   "source": [
    "# Standardize data\n",
    "scl= preprocessing.StandardScaler()\n",
    "X = scl.fit_transform(X)"
   ]
  },
  {
   "cell_type": "code",
   "execution_count": 258,
   "metadata": {
    "collapsed": true
   },
   "outputs": [],
   "source": [
    "Xlr, Xtestlr, ylr, ytestlr = train_test_split(X, y)"
   ]
  },
  {
   "cell_type": "code",
   "execution_count": 259,
   "metadata": {
    "collapsed": true
   },
   "outputs": [],
   "source": [
    "# Define function for cross validation test\n",
    "def cv_score(clf, x, y, score_func=metrics.mean_squared_error):\n",
    "    result = 0\n",
    "    nfold = 5\n",
    "    for train, test in KFold(nfold).split(x): # split data into train/test groups, 5 times\n",
    "        clf.fit(x[train], y[train], sample_weight= (y[train]+1)) # fit\n",
    "        result += score_func(clf.predict(x[test]), y[test]) # evaluate score function on held-out data\n",
    "    return result / nfold # average"
   ]
  },
  {
   "cell_type": "code",
   "execution_count": 260,
   "metadata": {},
   "outputs": [
    {
     "data": {
      "text/plain": [
       "1.000000    90.704296\n",
       "0.100000    90.704308\n",
       "0.010000    90.704309\n",
       "0.001000    90.704309\n",
       "0.000100    90.704309\n",
       "0.000010    90.704309\n",
       "0.000001    90.704309\n",
       "dtype: float64"
      ]
     },
     "execution_count": 260,
     "metadata": {},
     "output_type": "execute_result"
    }
   ],
   "source": [
    "# Find the best gamma and C\n",
    "\n",
    "As = [1, 0.1, 0.01, 0.001, 0.0001, 0.00001, 0.000001]\n",
    "#Gs = np.arange(0.1, 2, 0.2)\n",
    "score = pd.Series(index = As)\n",
    "\n",
    "for a in As:\n",
    "    clf = Ridge(alpha=a, max_iter=1000)\n",
    "    score[a] = cv_score(clf, Xlr, ylr)\n",
    "\n",
    "score"
   ]
  },
  {
   "cell_type": "code",
   "execution_count": 261,
   "metadata": {},
   "outputs": [
    {
     "data": {
      "text/plain": [
       "-58.723449262830115"
      ]
     },
     "execution_count": 261,
     "metadata": {},
     "output_type": "execute_result"
    }
   ],
   "source": [
    "clf = Ridge(alpha=0.00001, max_iter=100000000, tol = 0.0001)\n",
    "clf.fit(Xlr,ylr, sample_weight=10**ylr)\n",
    "predicted = clf.predict(Xtestlr)\n",
    "clf.score(Xtestlr,ytestlr)"
   ]
  },
  {
   "cell_type": "code",
   "execution_count": 262,
   "metadata": {},
   "outputs": [
    {
     "data": {
      "text/plain": [
       "<matplotlib.collections.PathCollection at 0x116152160>"
      ]
     },
     "execution_count": 262,
     "metadata": {},
     "output_type": "execute_result"
    },
    {
     "data": {
      "image/png": "[encoded data removed]",
      "text/plain": [
       "<matplotlib.figure.Figure at 0x1190bf128>"
      ]
     },
     "metadata": {},
     "output_type": "display_data"
    }
   ],
   "source": [
    "plt.scatter(ytestlr, predicted)"
   ]
  },
  {
   "cell_type": "code",
   "execution_count": 263,
   "metadata": {},
   "outputs": [
    {
     "name": "stderr",
     "output_type": "stream",
     "text": [
      "/Users/Robin/anaconda/lib/python3.6/site-packages/sklearn/svm/base.py:220: ConvergenceWarning: Solver terminated early (max_iter=100000).  Consider pre-processing your data with StandardScaler or MinMaxScaler.\n",
      "  % self.max_iter, ConvergenceWarning)\n"
     ]
    },
    {
     "data": {
      "text/plain": [
       "-2.4761191280134036"
      ]
     },
     "execution_count": 263,
     "metadata": {},
     "output_type": "execute_result"
    }
   ],
   "source": [
    "clf = svm.SVR(C =10000, max_iter=100000)\n",
    "clf.fit(Xlr,ylr, sample_weight=1.1**ylr)\n",
    "predicted = clf.predict(Xtestlr)\n",
    "clf.score(Xtestlr,ytestlr)"
   ]
  },
  {
   "cell_type": "code",
   "execution_count": 264,
   "metadata": {},
   "outputs": [
    {
     "data": {
      "text/plain": [
       "<matplotlib.collections.PathCollection at 0x116137550>"
      ]
     },
     "execution_count": 264,
     "metadata": {},
     "output_type": "execute_result"
    },
    {
     "data": {
      "image/png": "[encoded data removed]",
      "text/plain": [
       "<matplotlib.figure.Figure at 0x11614f828>"
      ]
     },
     "metadata": {},
     "output_type": "display_data"
    }
   ],
   "source": [
    "plt.scatter(ytestlr, predicted)"
   ]
  },
  {
   "cell_type": "code",
   "execution_count": null,
   "metadata": {
    "collapsed": true
   },
   "outputs": [],
   "source": []
  },
  {
   "cell_type": "code",
   "execution_count": null,
   "metadata": {
    "collapsed": true
   },
   "outputs": [],
   "source": []
  },
  {
   "cell_type": "code",
   "execution_count": null,
   "metadata": {
    "collapsed": true
   },
   "outputs": [],
   "source": []
  },
  {
   "cell_type": "code",
   "execution_count": null,
   "metadata": {
    "collapsed": true
   },
   "outputs": [],
   "source": []
  },
  {
   "cell_type": "code",
   "execution_count": null,
   "metadata": {
    "collapsed": true
   },
   "outputs": [],
   "source": []
  },
  {
   "cell_type": "code",
   "execution_count": null,
   "metadata": {
    "collapsed": true
   },
   "outputs": [],
   "source": []
  },
  {
   "cell_type": "code",
   "execution_count": null,
   "metadata": {
    "collapsed": true
   },
   "outputs": [],
   "source": []
  },
  {
   "cell_type": "code",
   "execution_count": null,
   "metadata": {
    "collapsed": true
   },
   "outputs": [],
   "source": []
  },
  {
   "cell_type": "code",
   "execution_count": null,
   "metadata": {
    "collapsed": true
   },
   "outputs": [],
   "source": []
  },
  {
   "cell_type": "code",
   "execution_count": null,
   "metadata": {
    "collapsed": true
   },
   "outputs": [],
   "source": []
  },
  {
   "cell_type": "code",
   "execution_count": null,
   "metadata": {
    "collapsed": true
   },
   "outputs": [],
   "source": []
  },
  {
   "cell_type": "code",
   "execution_count": null,
   "metadata": {
    "collapsed": true
   },
   "outputs": [],
   "source": []
  },
  {
   "cell_type": "code",
   "execution_count": null,
   "metadata": {
    "collapsed": true
   },
   "outputs": [],
   "source": []
  }
 ],
 "metadata": {
  "kernelspec": {
   "display_name": "Python 3",
   "language": "python",
   "name": "python3"
  },
  "language_info": {
   "codemirror_mode": {
    "name": "ipython",
    "version": 3
   },
   "file_extension": ".py",
   "mimetype": "text/x-python",
   "name": "python",
   "nbconvert_exporter": "python",
   "pygments_lexer": "ipython3",
   "version": "3.6.1"
  }
 },
 "nbformat": 4,
 "nbformat_minor": 2
}
