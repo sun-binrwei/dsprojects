{
 "cells": [
  {
   "cell_type": "markdown",
   "metadata": {},
   "source": [
    "# Examining Racial Discrimination in the US Job Market\n",
    "\n",
    "### Background\n",
    "Racial discrimination continues to be pervasive in cultures throughout the world. Researchers examined the level of racial discrimination in the United States labor market by randomly assigning identical résumés to black-sounding or white-sounding names and observing the impact on requests for interviews from employers.\n",
    "\n",
    "### Data\n",
    "In the dataset provided, each row represents a resume. The 'race' column has two values, 'b' and 'w', indicating black-sounding and white-sounding. The column 'call' has two values, 1 and 0, indicating whether the resume received a call from employers or not.\n",
    "\n",
    "Note that the 'b' and 'w' values in race are assigned randomly to the resumes when presented to the employer."
   ]
  },
  {
   "cell_type": "markdown",
   "metadata": {},
   "source": [
    "<div class=\"span5 alert alert-info\">\n",
    "### Exercises\n",
    "You will perform a statistical analysis to establish whether race has a significant impact on the rate of callbacks for resumes.\n",
    "\n",
    "Answer the following questions **in this notebook below and submit to your Github account**. \n",
    "\n",
    "   1. What test is appropriate for this problem? Does CLT apply?\n",
    "   2. What are the null and alternate hypotheses?\n",
    "   3. Compute margin of error, confidence interval, and p-value.\n",
    "   4. Write a story describing the statistical significance in the context or the original problem.\n",
    "   5. Does your analysis mean that race/name is the most important factor in callback success? Why or why not? If not, how would you amend your analysis?\n",
    "\n",
    "You can include written notes in notebook cells using Markdown: \n",
    "   - In the control panel at the top, choose Cell > Cell Type > Markdown\n",
    "   - Markdown syntax: http://nestacms.com/docs/creating-content/markdown-cheat-sheet\n",
    "\n",
    "\n",
    "#### Resources\n",
    "+ Experiment information and data source: http://www.povertyactionlab.org/evaluation/discrimination-job-market-united-states\n",
    "+ Scipy statistical methods: http://docs.scipy.org/doc/scipy/reference/stats.html \n",
    "+ Markdown syntax: http://nestacms.com/docs/creating-content/markdown-cheat-sheet\n",
    "</div>\n",
    "****"
   ]
  },
  {
   "cell_type": "code",
   "execution_count": 23,
   "metadata": {
    "collapsed": true
   },
   "outputs": [],
   "source": [
    "import pandas as pd\n",
    "import numpy as np\n",
    "from scipy import stats\n",
    "import math"
   ]
  },
  {
   "cell_type": "code",
   "execution_count": 15,
   "metadata": {},
   "outputs": [
    {
     "name": "stdout",
     "output_type": "stream",
     "text": [
      "2435\n",
      "2435\n"
     ]
    }
   ],
   "source": [
    "data = pd.io.stata.read_stata('data/us_job_market_discrimination.dta')\n",
    "print( len(data[data.race == 'b']))\n",
    "print(len(data[data.race == 'w']))"
   ]
  },
  {
   "cell_type": "markdown",
   "metadata": {},
   "source": [
    "# 1. What test is appropriate for this problem? Does CLT apply?"
   ]
  },
  {
   "cell_type": "markdown",
   "metadata": {},
   "source": [
    "Since the objective of this analysis is to verify whether race has significant impact to the call back rate, we should use two-sample test to compare the call back rate between white-sounding and back-sounding sample groups. \n",
    "\n",
    "The result of call back is either 0 or 1, therefore, the distribution of call back rate should be a bernoulli distribution. Would CLT still apply in this case? Let's examine the criteria of CLT\n",
    "1. The values have to be drawn independently\n",
    "2. The values have to come from the same distribution\n",
    "3. The values have to be drawn from a distribution with finite mean and variance\n",
    "4. The number of samples is enough\n",
    "\n",
    "Since the idantical resume was randomly assigned to back-sounding and white-sounding name, we can be a bit confident on the independency of the data. For the second criteria, sinc all the data were draw from the experience at once, they should come from the same distribution. Thirdly, the distribution of call-back is either 1 or 0 – a typical Bernoulli distribution with finite mean and variance. Lastly, the number of samples for each black-sounding and white-sounding group is 2435 – a sufficient amount of data for the convergnece of mean distribution. Therefore, CLT can still be apply to this case."
   ]
  },
  {
   "cell_type": "markdown",
   "metadata": {},
   "source": [
    "# 2. What are the null and alternate hypotheses?"
   ]
  },
  {
   "cell_type": "markdown",
   "metadata": {},
   "source": [
    "The objective is to analyze whether the race, black-sounding and white-sounding, will impact the call back rate. Therefore, we will set the null hypothesis as the race will have no significant impact to the call back rate, and alternate hypothesis as race will have significant impact to the call bakc rate. In this test, the confidence level will be set to 5%."
   ]
  },
  {
   "cell_type": "markdown",
   "metadata": {},
   "source": [
    " # 3. Compute margin of error, confidence interval, and p-value."
   ]
  },
  {
   "cell_type": "code",
   "execution_count": 33,
   "metadata": {},
   "outputs": [
    {
     "name": "stdout",
     "output_type": "stream",
     "text": [
      "Difference of all back rate = -0.032\n",
      "Margin of error = 0.0153\n",
      "95% Confidence interval = -0.0153  to  0.0153\n",
      "P-value = 1.94e-05\n"
     ]
    }
   ],
   "source": [
    "B = data[data.race == 'b']\n",
    "W = data[data.race == 'w']\n",
    "\n",
    "# Compute descriptive statistics of both back-sounding and white-sounding group\n",
    "meanB = B.call.mean()\n",
    "varB = B.call.var()\n",
    "meanvarB = varB/len(B)\n",
    "meanW = W.call.mean()\n",
    "varW = W.call.var()\n",
    "meanvarW = varW/len(W)\n",
    "\n",
    "# Compute the difference of sample mean\n",
    "meanDiff = meanB - meanW\n",
    "meanvarDiff = meanvarB + meanvarW\n",
    "stderrDiff = math.sqrt(meanvarDiff)\n",
    "\n",
    "# Compute margin of error with 95% confidence interval (two tail)\n",
    "zscore = stats.norm.ppf(0.975)\n",
    "marginError = zscore*stderrDiff\n",
    "pvalue = stats.norm.cdf(meanDiff/stderrDiff)\n",
    "\n",
    "print('Difference of all back rate =', round(meanDiff,4))\n",
    "print('Margin of error =',round(marginError,4))\n",
    "print('95% Confidence interval =',-round(marginError,4),' to ', round(marginError,4))\n",
    "print('P-value =', round(pvalue,7))"
   ]
  },
  {
   "cell_type": "markdown",
   "metadata": {},
   "source": [
    "From the test result, we can see that the null hypothesis has been rejected. The back-sounding group is 3.2% less likely to receive call back than the white-sounding group. The margin of error is 1.53% for a 95% confidence interval. The p-value is 0.002%, implying that there's a high significant difference between the groups."
   ]
  },
  {
   "cell_type": "markdown",
   "metadata": {},
   "source": [
    "# 4. Write a story describing the statistical significance in the context or the original problem."
   ]
  },
  {
   "cell_type": "markdown",
   "metadata": {},
   "source": [
    "How would the race impacts on the job application call back rate? \n",
    "\n",
    "Researchers examined the level of racial discrimination in the United States labor market by randomly assigning identical résumés to black-sounding or white-sounding names and observing the impact on requests for interviews from employers.\n",
    "\n",
    "Among the test result, we found that the call back rate for black-sounding names will have 3.2% lower chance to be called back than white-sounding names. The margin of error for this result is 1.53%, and the p-value is 0.002%, implying that there's significant call back rate between the two groups."
   ]
  },
  {
   "cell_type": "markdown",
   "metadata": {},
   "source": [
    "# 5. Does your analysis mean that race/name is the most important factor in callback success? Why or why not? If not, how would you amend your analysis?"
   ]
  },
  {
   "cell_type": "markdown",
   "metadata": {},
   "source": [
    "The analysis does not prove that the race/name is the most important factor in callback success. It only means that the race/name will have significant impact on callback success. To verify whether the race/name is actaully the most important factor, we should compare the impact with that of other factors."
   ]
  }
 ],
 "metadata": {
  "kernelspec": {
   "display_name": "Python 3",
   "language": "python",
   "name": "python3"
  },
  "language_info": {
   "codemirror_mode": {
    "name": "ipython",
    "version": 3
   },
   "file_extension": ".py",
   "mimetype": "text/x-python",
   "name": "python",
   "nbconvert_exporter": "python",
   "pygments_lexer": "ipython3",
   "version": "3.6.1"
  }
 },
 "nbformat": 4,
 "nbformat_minor": 1
}
