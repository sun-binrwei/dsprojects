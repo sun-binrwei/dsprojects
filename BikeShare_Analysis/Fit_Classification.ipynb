{
 "cells": [
  {
   "cell_type": "code",
   "execution_count": 31,
   "metadata": {
    "collapsed": true
   },
   "outputs": [],
   "source": [
    "%matplotlib inline\n",
    "import numpy as np\n",
    "import pandas as pd\n",
    "import matplotlib.pyplot as plt\n",
    "import seaborn as sns; sns.set()\n",
    "from pandas.tseries.holiday import USFederalHolidayCalendar as calendar\n",
    "from sklearn import preprocessing, svm, metrics, decomposition\n",
    "from sklearn.linear_model import SGDClassifier, SGDRegressor\n",
    "from sklearn.model_selection import train_test_split, KFold\n",
    "import pickle"
   ]
  },
  {
   "cell_type": "code",
   "execution_count": 3,
   "metadata": {
    "collapsed": true
   },
   "outputs": [
    {
     "data": {
      "text/plain": [
       "\"\\n%%time\\nstations = pd.read_csv('data_raw/babs_open_data_year_3/201608_station_data.csv', skipinitialspace= True)\\nstatus = pd.read_csv('data_raw/babs_open_data_year_3/201608_status_data.csv', \\n                     parse_dates = [3], infer_datetime_format = True, skipinitialspace= True)\\ntrips = pd.read_csv('data_raw/babs_open_data_year_3/201608_trip_data.csv', \\n                   parse_dates = ['Start Date', 'End Date'], infer_datetime_format = True, skipinitialspace= True)\\nweathers = pd.read_csv('data_raw/babs_open_data_year_3/201608_weather_data.csv',\\n                      parse_dates = ['PDT'], infer_datetime_format = True, skipinitialspace= True)\\n\""
      ]
     },
     "execution_count": 3,
     "metadata": {},
     "output_type": "execute_result"
    }
   ],
   "source": [
    "# Import data from csv\n",
    "'''\n",
    "%%time\n",
    "stations = pd.read_csv('data_raw/babs_open_data_year_3/201608_station_data.csv', skipinitialspace= True)\n",
    "status = pd.read_csv('data_raw/babs_open_data_year_3/201608_status_data.csv', \n",
    "                     parse_dates = [3], infer_datetime_format = True, skipinitialspace= True)\n",
    "trips = pd.read_csv('data_raw/babs_open_data_year_3/201608_trip_data.csv', \n",
    "                   parse_dates = ['Start Date', 'End Date'], infer_datetime_format = True, skipinitialspace= True)\n",
    "weathers = pd.read_csv('data_raw/babs_open_data_year_3/201608_weather_data.csv',\n",
    "                      parse_dates = ['PDT'], infer_datetime_format = True, skipinitialspace= True)\n",
    "'''"
   ]
  },
  {
   "cell_type": "code",
   "execution_count": 4,
   "metadata": {
    "collapsed": true
   },
   "outputs": [
    {
     "data": {
      "text/plain": [
       "\"\\nstations = stations.dropna(how = 'all')\\nstatus = status.dropna(how = 'all')\\ntrips = trips.dropna(how = 'all')\\nweathers = weathers.dropna(how = 'all')\\n\""
      ]
     },
     "execution_count": 4,
     "metadata": {},
     "output_type": "execute_result"
    }
   ],
   "source": [
    "# Drop missing data where the columns or rows are nan\n",
    "'''\n",
    "stations = stations.dropna(how = 'all')\n",
    "status = status.dropna(how = 'all')\n",
    "trips = trips.dropna(how = 'all')\n",
    "weathers = weathers.dropna(how = 'all')\n",
    "'''"
   ]
  },
  {
   "cell_type": "code",
   "execution_count": 5,
   "metadata": {
    "collapsed": true
   },
   "outputs": [
    {
     "data": {
      "text/plain": [
       "'\\nstationfile = open(\"data_cleaned/stations_data\",\"wb\")\\ntripfile = open(\"data_cleaned/trips_data\",\"wb\")\\nweatherfile = open(\"data_cleaned/weathers_data\",\"wb\")\\nstatusfile = open(\"data_cleaned/status_data\",\"wb\")\\npickle.dump(stations, stationfile)\\npickle.dump(trips, tripfile)\\npickle.dump(weathers, weatherfile)\\npickle.dump(status, statusfile)\\nstationfile.close()\\ntripfile.close()\\nweatherfile.close()\\nstatusfile.close()\\n'"
      ]
     },
     "execution_count": 5,
     "metadata": {},
     "output_type": "execute_result"
    }
   ],
   "source": [
    "# Save the dataframe objects into files with pickle, saving time for loading the file\n",
    "'''\n",
    "stationfile = open(\"data_cleaned/stations_data_year3\",\"wb\")\n",
    "tripfile = open(\"data_cleaned/trips_data_yaer3\",\"wb\")\n",
    "weatherfile = open(\"data_cleaned/weathers_data_year3\",\"wb\")\n",
    "statusfile = open(\"data_cleaned/status_data_year3\",\"wb\")\n",
    "pickle.dump(stations, stationfile)\n",
    "pickle.dump(trips, tripfile)\n",
    "pickle.dump(weathers, weatherfile)\n",
    "pickle.dump(status, statusfile)\n",
    "stationfile.close()\n",
    "tripfile.close()\n",
    "weatherfile.close()\n",
    "statusfile.close()\n",
    "'''"
   ]
  },
  {
   "cell_type": "code",
   "execution_count": 6,
   "metadata": {
    "collapsed": true
   },
   "outputs": [],
   "source": [
    "# Load data from pickled file\n",
    "#%%time\n",
    "stationfile = open(\"data_cleaned/stations_data_year3\",\"rb\")\n",
    "tripfile = open(\"data_cleaned/trips_data_year3\",\"rb\")\n",
    "weatherfile = open(\"data_cleaned/weathers_data_year3\",\"rb\")\n",
    "statusfile = open(\"data_cleaned/status_data_year3\",\"rb\")\n",
    "stations = pickle.load(stationfile)\n",
    "trips = pickle.load(tripfile)\n",
    "weathers = pickle.load(weatherfile)\n",
    "status = pickle.load(statusfile)\n",
    "cal = calendar()\n",
    "holidays = cal.holidays(start = trips['Start Date'].min(), end = trips['Start Date'].max())"
   ]
  },
  {
   "cell_type": "markdown",
   "metadata": {},
   "source": [
    "# Introduction\n",
    "\n",
    "The purpose of this document is to predict the demand of each station in a giving time.\n",
    "The procedures are as followed:\n",
    "1. Define 'demand' as number of bike borrowed from one station in a given time period. We'll further classified the demand to 5 levels, from 1 to 5, each will represent 20% quantile of the demand distribution.\n",
    "\n",
    "2. From the previous data exploration, we've identified that the station(location), date, time and temperature are the important factors impacting the demand. We'll use those factors to train the data.\n",
    "\n",
    "3. We'll train the model using the dataset in 2016. However, we'll expend the training set to the datasets from 2013 to 2016."
   ]
  },
  {
   "cell_type": "markdown",
   "metadata": {},
   "source": [
    "# Define demand\n",
    "We'll define demand as number of bike will be borrowed in the future 15 minutes. Therefore, we will have 4 period in each hour. "
   ]
  },
  {
   "cell_type": "code",
   "execution_count": 7,
   "metadata": {},
   "outputs": [],
   "source": [
    "# Define demand column by counting the number of bike borrowed in particular station in the next 1 Hour\n",
    "t = trips.set_index('Start Date')\n",
    "t = t.groupby([pd.TimeGrouper('H'), 'Start Terminal']).size().unstack('Start Terminal').fillna(0)\n",
    "t = t.stack().reset_index('Start Terminal')\n",
    "t = t.rename(columns = {0: 'Demand'})\n",
    "\n",
    "# Parse out the time details\n",
    "t['year'] = t.index.year\n",
    "t['month'] = t.index.month\n",
    "t['day'] = t.index.day\n",
    "t['hour'] = t.index.hour\n",
    "t['min'] = t.index.minute\n",
    "\n",
    "# Set up workday\n",
    "t['PDT'] = t.index.date\n",
    "t['PDT'] = pd.to_datetime(t.PDT)\n",
    "t = t.reset_index()\n",
    "weekday = t['Start Date'].dt.weekday\n",
    "t['workday'] = weekday.isin([0,1,2,3,4]) & (t.PDT.isin(holidays) == False)"
   ]
  },
  {
   "cell_type": "code",
   "execution_count": 8,
   "metadata": {
    "collapsed": true
   },
   "outputs": [],
   "source": [
    "# Clean data in weathers  \n",
    "w = weathers\n",
    "w.PrecipitationIn = w.PrecipitationIn.replace('T', '0.005')\n",
    "w.PrecipitationIn = pd.to_numeric(w.PrecipitationIn)\n",
    "w = w.drop(['Max Gust SpeedMPH', 'Events'], axis = 'columns')\n",
    "w = w.fillna(w.mean())\n",
    "ziplocation = {94107:'San Francisco', 94301:'Palo Alto', 94041:'Mountain View', 95113:'San Jose'}\n",
    "w['landmark'] = w.ZIP.map(ziplocation)\n",
    "\n",
    "# Join data with stations and weathers\n",
    "s = stations.set_index('station_id').loc[:, ['lat', 'long', 'dockcount', 'landmark']]\n",
    "m = pd.merge(t, s, how ='inner', left_on='Start Terminal', right_index= True)\n",
    "\n",
    "m = pd.merge(m, w, how ='inner', left_on = ['PDT', 'landmark'], right_on = ['PDT', 'landmark'])\n",
    "m = m.dropna(axis =1, how='all')"
   ]
  },
  {
   "cell_type": "code",
   "execution_count": 9,
   "metadata": {
    "collapsed": true
   },
   "outputs": [],
   "source": [
    "# First predict smaller dataset for validating the model\n",
    "# Predict the 3 most demanded stations\n",
    "t_station = m.groupby(by = 'Start Terminal').sum().sort_values(by = 'Demand', ascending = False).index.tolist()[:3]\n",
    "m = m[m['Start Terminal'].isin(t_station)]"
   ]
  },
  {
   "cell_type": "code",
   "execution_count": 10,
   "metadata": {
    "collapsed": true
   },
   "outputs": [],
   "source": [
    "# Parse the features to X, label to y\n",
    "X = m.drop(['Start Date', 'PDT','min','Demand','year','Max VisibilityMiles','dockcount','ZIP'], axis = 1)\n",
    "X = pd.get_dummies(X, prefix= ['workday','landmark'], columns = ['workday','landmark'], drop_first=True)\n",
    "X = X.as_matrix()\n",
    "y = m.Demand.as_matrix()"
   ]
  },
  {
   "cell_type": "code",
   "execution_count": 11,
   "metadata": {},
   "outputs": [
    {
     "data": {
      "text/plain": [
       "(23688, 26)"
      ]
     },
     "execution_count": 11,
     "metadata": {},
     "output_type": "execute_result"
    }
   ],
   "source": [
    "np.shape(X)"
   ]
  },
  {
   "cell_type": "code",
   "execution_count": 12,
   "metadata": {
    "collapsed": true
   },
   "outputs": [],
   "source": [
    "#Reduce dimension of features by using PCA\n",
    "pca = decomposition.PCA()\n",
    "Xn = pca.fit_transform(X)"
   ]
  },
  {
   "cell_type": "code",
   "execution_count": 13,
   "metadata": {},
   "outputs": [
    {
     "data": {
      "image/png": "[encoded data removed]",
      "text/plain": [
       "<matplotlib.figure.Figure at 0x118758940>"
      ]
     },
     "metadata": {},
     "output_type": "display_data"
    }
   ],
   "source": [
    "# Analyze the 'explained varience ratio' to each 'Principal Component'\n",
    "x_pca = list(range(1,27))\n",
    "y_v = pca.explained_variance_ratio_\n",
    "plt.plot(x_pca, y_v)\n",
    "plt.xlabel('Principal component')\n",
    "plt.ylabel('Explained varience ratio')\n",
    "plt.xlim(1,26);"
   ]
  },
  {
   "cell_type": "code",
   "execution_count": 14,
   "metadata": {},
   "outputs": [
    {
     "name": "stdout",
     "output_type": "stream",
     "text": [
      "Total explained varience ratio using 5 principal component: 96.29 %\n"
     ]
    },
    {
     "data": {
      "image/png": "[encoded data removed]",
      "text/plain": [
       "<matplotlib.figure.Figure at 0x11d2785c0>"
      ]
     },
     "metadata": {},
     "output_type": "display_data"
    }
   ],
   "source": [
    "sumv = [0]\n",
    "x_pca = list(range(0,27))\n",
    "for i in range(len(y_v)):\n",
    "    sumv.append(sum(y_v[:i+1]))\n",
    "plt.plot(x_pca, sumv);\n",
    "plt.xlabel('Number of principal component used');\n",
    "plt.ylabel('Total explained varience ratio');\n",
    "print('Total explained varience ratio using 5 principal component:',round(sumv[4]*100,2),'%')"
   ]
  },
  {
   "cell_type": "code",
   "execution_count": 15,
   "metadata": {
    "collapsed": true
   },
   "outputs": [],
   "source": [
    "pca = decomposition.PCA(n_components=5)\n",
    "Xn = pca.fit_transform(X)"
   ]
  },
  {
   "cell_type": "code",
   "execution_count": 16,
   "metadata": {
    "collapsed": true
   },
   "outputs": [],
   "source": [
    "# Categorize demand into three category, no demand = 0, normal = 1~5, high demand = >5\n",
    "def catg(y):\n",
    "    if y == 0:\n",
    "        return 0\n",
    "    elif y<=5:\n",
    "        return 1\n",
    "    else:\n",
    "        return 2\n",
    "\n",
    "y = np.array(list(map(catg, y)))"
   ]
  },
  {
   "cell_type": "code",
   "execution_count": 17,
   "metadata": {
    "collapsed": true
   },
   "outputs": [],
   "source": [
    "# normalize data\n",
    "scl= preprocessing.StandardScaler()\n",
    "Xn = scl.fit_transform(Xn)"
   ]
  },
  {
   "cell_type": "code",
   "execution_count": 18,
   "metadata": {
    "collapsed": true
   },
   "outputs": [],
   "source": [
    "Xlr, Xtestlr, ylr, ytestlr = train_test_split(Xn, y)"
   ]
  },
  {
   "cell_type": "code",
   "execution_count": 19,
   "metadata": {
    "collapsed": true
   },
   "outputs": [],
   "source": [
    "# Define function for cross validation test\n",
    "def cv_score(clf, x, y, score_func=metrics.accuracy_score):\n",
    "    result = 0\n",
    "    nfold = 5\n",
    "    for train, test in KFold(nfold).split(x): # split data into train/test groups, 5 times\n",
    "        clf.fit(x[train], y[train], sample_weight= (y[train]+1)) # fit\n",
    "        result += score_func(clf.predict(x[test]), y[test]) # evaluate score function on held-out data\n",
    "    return result / nfold # average"
   ]
  },
  {
   "cell_type": "code",
   "execution_count": 20,
   "metadata": {},
   "outputs": [
    {
     "name": "stderr",
     "output_type": "stream",
     "text": [
      "/Users/Robin/anaconda/lib/python3.6/site-packages/sklearn/svm/base.py:220: ConvergenceWarning: Solver terminated early (max_iter=100).  Consider pre-processing your data with StandardScaler or MinMaxScaler.\n",
      "  % self.max_iter, ConvergenceWarning)\n"
     ]
    },
    {
     "data": {
      "text/html": [
       "<div>\n",
       "<style>\n",
       "    .dataframe thead tr:only-child th {\n",
       "        text-align: right;\n",
       "    }\n",
       "\n",
       "    .dataframe thead th {\n",
       "        text-align: left;\n",
       "    }\n",
       "\n",
       "    .dataframe tbody tr th {\n",
       "        vertical-align: top;\n",
       "    }\n",
       "</style>\n",
       "<table border=\"1\" class=\"dataframe\">\n",
       "  <thead>\n",
       "    <tr style=\"text-align: right;\">\n",
       "      <th></th>\n",
       "      <th>1</th>\n",
       "      <th>10</th>\n",
       "      <th>100</th>\n",
       "      <th>1000</th>\n",
       "      <th>10000</th>\n",
       "      <th>100000</th>\n",
       "      <th>1000000</th>\n",
       "      <th>10000000</th>\n",
       "      <th>100000000</th>\n",
       "    </tr>\n",
       "  </thead>\n",
       "  <tbody>\n",
       "    <tr>\n",
       "      <th>0.1</th>\n",
       "      <td>0.157099</td>\n",
       "      <td>0.338399</td>\n",
       "      <td>0.386581</td>\n",
       "      <td>0.402231</td>\n",
       "      <td>0.419847</td>\n",
       "      <td>0.421761</td>\n",
       "      <td>0.41574</td>\n",
       "      <td>0.419565</td>\n",
       "      <td>0.422886</td>\n",
       "    </tr>\n",
       "    <tr>\n",
       "      <th>0.3</th>\n",
       "      <td>0.268319</td>\n",
       "      <td>0.391871</td>\n",
       "      <td>0.450018</td>\n",
       "      <td>0.4521</td>\n",
       "      <td>0.439381</td>\n",
       "      <td>0.430766</td>\n",
       "      <td>0.454297</td>\n",
       "      <td>0.433808</td>\n",
       "      <td>0.447541</td>\n",
       "    </tr>\n",
       "    <tr>\n",
       "      <th>0.5</th>\n",
       "      <td>0.251428</td>\n",
       "      <td>0.383766</td>\n",
       "      <td>0.447543</td>\n",
       "      <td>0.4248</td>\n",
       "      <td>0.451708</td>\n",
       "      <td>0.452495</td>\n",
       "      <td>0.439886</td>\n",
       "      <td>0.446699</td>\n",
       "      <td>0.453454</td>\n",
       "    </tr>\n",
       "    <tr>\n",
       "      <th>0.7</th>\n",
       "      <td>0.311053</td>\n",
       "      <td>0.403408</td>\n",
       "      <td>0.410052</td>\n",
       "      <td>0.406057</td>\n",
       "      <td>0.460993</td>\n",
       "      <td>0.455366</td>\n",
       "      <td>0.449172</td>\n",
       "      <td>0.446527</td>\n",
       "      <td>0.453788</td>\n",
       "    </tr>\n",
       "    <tr>\n",
       "      <th>0.9</th>\n",
       "      <td>0.232683</td>\n",
       "      <td>0.346277</td>\n",
       "      <td>0.44349</td>\n",
       "      <td>0.42052</td>\n",
       "      <td>0.447541</td>\n",
       "      <td>0.445289</td>\n",
       "      <td>0.455254</td>\n",
       "      <td>0.463584</td>\n",
       "      <td>0.463584</td>\n",
       "    </tr>\n",
       "    <tr>\n",
       "      <th>1.1</th>\n",
       "      <td>0.23281</td>\n",
       "      <td>0.409041</td>\n",
       "      <td>0.448329</td>\n",
       "      <td>0.410344</td>\n",
       "      <td>0.413554</td>\n",
       "      <td>0.429979</td>\n",
       "      <td>0.463751</td>\n",
       "      <td>0.470168</td>\n",
       "      <td>0.470168</td>\n",
       "    </tr>\n",
       "    <tr>\n",
       "      <th>1.3</th>\n",
       "      <td>0.184344</td>\n",
       "      <td>0.39525</td>\n",
       "      <td>0.451425</td>\n",
       "      <td>0.433414</td>\n",
       "      <td>0.394232</td>\n",
       "      <td>0.460882</td>\n",
       "      <td>0.462963</td>\n",
       "      <td>0.428355</td>\n",
       "      <td>0.428017</td>\n",
       "    </tr>\n",
       "    <tr>\n",
       "      <th>1.5</th>\n",
       "      <td>0.235568</td>\n",
       "      <td>0.407296</td>\n",
       "      <td>0.385173</td>\n",
       "      <td>0.445738</td>\n",
       "      <td>0.461275</td>\n",
       "      <td>0.453001</td>\n",
       "      <td>0.456153</td>\n",
       "      <td>0.446639</td>\n",
       "      <td>0.441742</td>\n",
       "    </tr>\n",
       "    <tr>\n",
       "      <th>1.7</th>\n",
       "      <td>0.284301</td>\n",
       "      <td>0.435385</td>\n",
       "      <td>0.422325</td>\n",
       "      <td>0.420971</td>\n",
       "      <td>0.447709</td>\n",
       "      <td>0.416242</td>\n",
       "      <td>0.419183</td>\n",
       "      <td>0.418338</td>\n",
       "      <td>0.418338</td>\n",
       "    </tr>\n",
       "    <tr>\n",
       "      <th>1.9</th>\n",
       "      <td>0.237298</td>\n",
       "      <td>0.401723</td>\n",
       "      <td>0.411964</td>\n",
       "      <td>0.4615</td>\n",
       "      <td>0.447314</td>\n",
       "      <td>0.45497</td>\n",
       "      <td>0.414444</td>\n",
       "      <td>0.465609</td>\n",
       "      <td>0.464033</td>\n",
       "    </tr>\n",
       "  </tbody>\n",
       "</table>\n",
       "</div>"
      ],
      "text/plain": [
       "    1         10        100       1000      10000     100000    1000000    \\\n",
       "0.1  0.157099  0.338399  0.386581  0.402231  0.419847  0.421761   0.41574   \n",
       "0.3  0.268319  0.391871  0.450018    0.4521  0.439381  0.430766  0.454297   \n",
       "0.5  0.251428  0.383766  0.447543    0.4248  0.451708  0.452495  0.439886   \n",
       "0.7  0.311053  0.403408  0.410052  0.406057  0.460993  0.455366  0.449172   \n",
       "0.9  0.232683  0.346277   0.44349   0.42052  0.447541  0.445289  0.455254   \n",
       "1.1   0.23281  0.409041  0.448329  0.410344  0.413554  0.429979  0.463751   \n",
       "1.3  0.184344   0.39525  0.451425  0.433414  0.394232  0.460882  0.462963   \n",
       "1.5  0.235568  0.407296  0.385173  0.445738  0.461275  0.453001  0.456153   \n",
       "1.7  0.284301  0.435385  0.422325  0.420971  0.447709  0.416242  0.419183   \n",
       "1.9  0.237298  0.401723  0.411964    0.4615  0.447314   0.45497  0.414444   \n",
       "\n",
       "    10000000  100000000  \n",
       "0.1  0.419565  0.422886  \n",
       "0.3  0.433808  0.447541  \n",
       "0.5  0.446699  0.453454  \n",
       "0.7  0.446527  0.453788  \n",
       "0.9  0.463584  0.463584  \n",
       "1.1  0.470168  0.470168  \n",
       "1.3  0.428355  0.428017  \n",
       "1.5  0.446639  0.441742  \n",
       "1.7  0.418338  0.418338  \n",
       "1.9  0.465609  0.464033  "
      ]
     },
     "execution_count": 20,
     "metadata": {},
     "output_type": "execute_result"
    }
   ],
   "source": [
    "# Find the best gamma and C\n",
    "\n",
    "Cs = [1, 10, 100, 1000, 10000, 100000, 1000000, 10000000, 100000000]\n",
    "Gs = np.arange(0.1, 2, 0.2)\n",
    "score = pd.DataFrame(index=Gs, columns = Cs)\n",
    "\n",
    "for c in Cs:\n",
    "    for g in Gs:\n",
    "        clf = svm.SVC(gamma = g, C = c, max_iter=100)\n",
    "        score.loc[g,c] = cv_score(clf, Xlr, ylr)\n",
    "\n",
    "score"
   ]
  },
  {
   "cell_type": "code",
   "execution_count": 21,
   "metadata": {
    "collapsed": true
   },
   "outputs": [],
   "source": [
    "clf = svm.SVC(gamma = 1.7, C=1000000, max_iter=1000000)"
   ]
  },
  {
   "cell_type": "code",
   "execution_count": 22,
   "metadata": {},
   "outputs": [
    {
     "name": "stdout",
     "output_type": "stream",
     "text": [
      "CPU times: user 6min 37s, sys: 9.66 s, total: 6min 47s\n",
      "Wall time: 10min 55s\n"
     ]
    },
    {
     "name": "stderr",
     "output_type": "stream",
     "text": [
      "/Users/Robin/anaconda/lib/python3.6/site-packages/sklearn/svm/base.py:220: ConvergenceWarning: Solver terminated early (max_iter=1000000).  Consider pre-processing your data with StandardScaler or MinMaxScaler.\n",
      "  % self.max_iter, ConvergenceWarning)\n"
     ]
    },
    {
     "data": {
      "text/plain": [
       "SVC(C=1000000, cache_size=200, class_weight=None, coef0=0.0,\n",
       "  decision_function_shape=None, degree=3, gamma=1.7, kernel='rbf',\n",
       "  max_iter=1000000, probability=False, random_state=None, shrinking=True,\n",
       "  tol=0.001, verbose=False)"
      ]
     },
     "execution_count": 22,
     "metadata": {},
     "output_type": "execute_result"
    }
   ],
   "source": [
    "%%time\n",
    "clf.fit(Xlr,ylr)"
   ]
  },
  {
   "cell_type": "code",
   "execution_count": 23,
   "metadata": {
    "scrolled": true
   },
   "outputs": [
    {
     "name": "stdout",
     "output_type": "stream",
     "text": [
      "             precision    recall  f1-score   support\n",
      "\n",
      "          0       0.60      0.52      0.55      3290\n",
      "          1       0.47      0.45      0.46      2396\n",
      "          2       0.02      0.08      0.04       236\n",
      "\n",
      "avg / total       0.52      0.47      0.49      5922\n",
      "\n"
     ]
    }
   ],
   "source": [
    "predicted = clf.predict(Xtestlr)\n",
    "print(metrics.classification_report(predicted,ytestlr))"
   ]
  },
  {
   "cell_type": "code",
   "execution_count": null,
   "metadata": {
    "collapsed": true
   },
   "outputs": [],
   "source": []
  },
  {
   "cell_type": "code",
   "execution_count": 25,
   "metadata": {},
   "outputs": [
    {
     "data": {
      "text/plain": [
       "array([[1696,  990,  151],\n",
       "       [1168, 1079,   67],\n",
       "       [ 426,  327,   18]])"
      ]
     },
     "execution_count": 25,
     "metadata": {},
     "output_type": "execute_result"
    }
   ],
   "source": [
    "from sklearn.metrics import confusion_matrix\n",
    "confusion_matrix(ytestlr, predicted)"
   ]
  },
  {
   "cell_type": "code",
   "execution_count": 48,
   "metadata": {},
   "outputs": [],
   "source": [
    "hour = m.hour.as_matrix()\n",
    "terminal = m['Start Terminal'].as_matrix()\n",
    "c = m.Demand\n",
    "c = np.array(list(map(catg, c)))"
   ]
  },
  {
   "cell_type": "code",
   "execution_count": 51,
   "metadata": {
    "scrolled": false
   },
   "outputs": [
    {
     "data": {
      "text/plain": [
       "<matplotlib.collections.PathCollection at 0x119455550>"
      ]
     },
     "execution_count": 51,
     "metadata": {},
     "output_type": "execute_result"
    },
    {
     "data": {
      "image/png": "[encoded data removed]",
      "text/plain": [
       "<matplotlib.figure.Figure at 0x11b53eef0>"
      ]
     },
     "metadata": {},
     "output_type": "display_data"
    }
   ],
   "source": [
    "plt.scatter(x = hour, y = terminal, c=c, s= 50, cmap='spring')"
   ]
  },
  {
   "cell_type": "code",
   "execution_count": null,
   "metadata": {
    "collapsed": true
   },
   "outputs": [],
   "source": []
  },
  {
   "cell_type": "code",
   "execution_count": null,
   "metadata": {
    "collapsed": true
   },
   "outputs": [],
   "source": []
  },
  {
   "cell_type": "code",
   "execution_count": null,
   "metadata": {
    "collapsed": true
   },
   "outputs": [],
   "source": []
  },
  {
   "cell_type": "code",
   "execution_count": null,
   "metadata": {
    "collapsed": true
   },
   "outputs": [],
   "source": []
  },
  {
   "cell_type": "code",
   "execution_count": null,
   "metadata": {
    "collapsed": true
   },
   "outputs": [],
   "source": []
  },
  {
   "cell_type": "code",
   "execution_count": null,
   "metadata": {
    "collapsed": true
   },
   "outputs": [],
   "source": []
  },
  {
   "cell_type": "code",
   "execution_count": null,
   "metadata": {
    "collapsed": true
   },
   "outputs": [],
   "source": []
  },
  {
   "cell_type": "code",
   "execution_count": null,
   "metadata": {
    "collapsed": true
   },
   "outputs": [],
   "source": []
  }
 ],
 "metadata": {
  "kernelspec": {
   "display_name": "Python 3",
   "language": "python",
   "name": "python3"
  },
  "language_info": {
   "codemirror_mode": {
    "name": "ipython",
    "version": 3
   },
   "file_extension": ".py",
   "mimetype": "text/x-python",
   "name": "python",
   "nbconvert_exporter": "python",
   "pygments_lexer": "ipython3",
   "version": "3.6.1"
  }
 },
 "nbformat": 4,
 "nbformat_minor": 2
}
