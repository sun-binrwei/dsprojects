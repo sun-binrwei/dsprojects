{
 "cells": [
  {
   "cell_type": "markdown",
   "metadata": {},
   "source": [
    "# What is the True Normal Human Body Temperature? \n",
    "\n",
    "#### Background\n",
    "\n",
    "The mean normal body temperature was held to be 37$^{\\circ}$C or 98.6$^{\\circ}$F for more than 120 years since it was first conceptualized and reported by Carl Wunderlich in a famous 1868 book. But, is this value statistically correct?"
   ]
  },
  {
   "cell_type": "markdown",
   "metadata": {},
   "source": [
    "<div class=\"span5 alert alert-info\">\n",
    "<h3>Exercises</h3>\n",
    "\n",
    "<p>In this exercise, you will analyze a dataset of human body temperatures and employ the concepts of hypothesis testing, confidence intervals, and statistical significance.</p>\n",
    "\n",
    "<p>Answer the following questions <b>in this notebook below and submit to your Github account</b>.</p> \n",
    "\n",
    "<ol>\n",
    "<li>  Is the distribution of body temperatures normal? \n",
    "    <ul>\n",
    "    <li> Although this is not a requirement for CLT to hold (read CLT carefully), it gives us some peace of mind that the population may also be normally distributed if we assume that this sample is representative of the population.\n",
    "    </ul>\n",
    "<li>  Is the sample size large? Are the observations independent?\n",
    "    <ul>\n",
    "    <li> Remember that this is a condition for the CLT, and hence the statistical tests we are using, to apply.\n",
    "    </ul>\n",
    "<li>  Is the true population mean really 98.6 degrees F?\n",
    "    <ul>\n",
    "    <li> Would you use a one-sample or two-sample test? Why?\n",
    "    <li> In this situation, is it appropriate to use the $t$ or $z$ statistic? \n",
    "    <li> Now try using the other test. How is the result be different? Why?\n",
    "    </ul>\n",
    "<li>  At what temperature should we consider someone's temperature to be \"abnormal\"?\n",
    "    <ul>\n",
    "    <li> Start by computing the margin of error and confidence interval.\n",
    "    </ul>\n",
    "<li>  Is there a significant difference between males and females in normal temperature?\n",
    "    <ul>\n",
    "    <li> What test did you use and why?\n",
    "    <li> Write a story with your conclusion in the context of the original problem.\n",
    "    </ul>\n",
    "</ol>\n",
    "\n",
    "You can include written notes in notebook cells using Markdown: \n",
    "   - In the control panel at the top, choose Cell > Cell Type > Markdown\n",
    "   - Markdown syntax: http://nestacms.com/docs/creating-content/markdown-cheat-sheet\n",
    "\n",
    "#### Resources\n",
    "\n",
    "+ Information and data sources: http://www.amstat.org/publications/jse/datasets/normtemp.txt, http://www.amstat.org/publications/jse/jse_data_archive.htm\n",
    "+ Markdown syntax: http://nestacms.com/docs/creating-content/markdown-cheat-sheet\n",
    "\n",
    "****\n",
    "</div>"
   ]
  },
  {
   "cell_type": "code",
   "execution_count": 175,
   "metadata": {},
   "outputs": [],
   "source": [
    "import pandas as pd\n",
    "import numpy as np\n",
    "import scipy.stats as stats\n",
    "import matplotlib.pyplot as plt\n",
    "import pylab\n",
    "import math\n",
    "%matplotlib inline\n",
    "\n",
    "df = pd.read_csv('data/human_body_temperature.csv')"
   ]
  },
  {
   "cell_type": "markdown",
   "metadata": {},
   "source": [
    "# 1. Is the distribution of body temperatures normal?"
   ]
  },
  {
   "cell_type": "markdown",
   "metadata": {},
   "source": [
    "To verify this question, we can simply plot the histogram of human body temperature, and compare the distribution to the normal distribution. "
   ]
  },
  {
   "cell_type": "code",
   "execution_count": 176,
   "metadata": {},
   "outputs": [
    {
     "data": {
      "image/png": "[encoded data removed]",
      "text/plain": [
       "<matplotlib.figure.Figure at 0x11c046b70>"
      ]
     },
     "metadata": {},
     "output_type": "display_data"
    }
   ],
   "source": [
    "# Plot histogram of the temperature\n",
    "df.temperature.plot.hist(bins = 25);"
   ]
  },
  {
   "cell_type": "markdown",
   "metadata": {},
   "source": [
    "From the histogram, we can see that the distribution is slightly skewed toward left and compiled in the middle. We can examine the Skewness and the Kurtosis to verify this observation quantitatively:"
   ]
  },
  {
   "cell_type": "code",
   "execution_count": 177,
   "metadata": {},
   "outputs": [
    {
     "data": {
      "text/plain": [
       "DescribeResult(nobs=130, minmax=(96.299999999999997, 100.8), mean=98.249230769230749, variance=0.53755754323196159, skewness=-0.004367976879081625, kurtosis=0.7049597854114693)"
      ]
     },
     "execution_count": 177,
     "metadata": {},
     "output_type": "execute_result"
    }
   ],
   "source": [
    "test = df.temperature.as_matrix()\n",
    "stats.describe(test)"
   ]
  },
  {
   "cell_type": "markdown",
   "metadata": {},
   "source": [
    "Compare our the data skewness and kurtosis to that of normal distribution:"
   ]
  },
  {
   "cell_type": "code",
   "execution_count": 178,
   "metadata": {},
   "outputs": [
    {
     "data": {
      "text/plain": [
       "(array(0.0), array(0.0))"
      ]
     },
     "execution_count": 178,
     "metadata": {},
     "output_type": "execute_result"
    }
   ],
   "source": [
    "stats.norm.stats(moments = 'sk')"
   ]
  },
  {
   "cell_type": "markdown",
   "metadata": {},
   "source": [
    "By the information above, we can confirm that the distribution of sample is a bit different from normal distribution. But what is our confidence level to reject the null hypothesis? There's a build-in function from scipy, scipy.stats.mstats.normaltest, can conduct normality test to the samples, which will give us p-value for rejecting the null hypothesis – the true population is normaly distributed."
   ]
  },
  {
   "cell_type": "code",
   "execution_count": 179,
   "metadata": {},
   "outputs": [
    {
     "data": {
      "text/plain": [
       "NormaltestResult(statistic=2.7038014333192031, pvalue=0.2587479863488254)"
      ]
     },
     "execution_count": 179,
     "metadata": {},
     "output_type": "execute_result"
    }
   ],
   "source": [
    "stats.mstats.normaltest(test)"
   ]
  },
  {
   "cell_type": "markdown",
   "metadata": {},
   "source": [
    "This normality test use chi-square test. The p-value is 0.26, which means, if we need at least 90% confidence level to reject the null hypothesis, we can not reject the null hypothesis in this case, since the p-value is 0.26, which means there's a 26% chance that the true population is normaly distributed."
   ]
  },
  {
   "cell_type": "markdown",
   "metadata": {},
   "source": [
    "# 2. Is the sample size large? Are the observations independent?"
   ]
  },
  {
   "cell_type": "markdown",
   "metadata": {},
   "source": [
    "## a. Is the sample size large enough?"
   ]
  },
  {
   "cell_type": "markdown",
   "metadata": {},
   "source": [
    "To answer this question, let's first calculate the sample size."
   ]
  },
  {
   "cell_type": "code",
   "execution_count": 180,
   "metadata": {},
   "outputs": [
    {
     "data": {
      "text/plain": [
       "130"
      ]
     },
     "execution_count": 180,
     "metadata": {},
     "output_type": "execute_result"
    }
   ],
   "source": [
    "sampleSize = len(df)\n",
    "sampleSize"
   ]
  },
  {
   "cell_type": "markdown",
   "metadata": {},
   "source": [
    "Under general rule of hypothesis testing, when sample size is greater than 30, we can conduct $z$-statistic to test the hypothesis, otherwise we need to use $t$-statistic. In our case, the sample size is 150, therefore, our sample size is large enough to use $z$-statistic."
   ]
  },
  {
   "cell_type": "markdown",
   "metadata": {},
   "source": [
    "## b. Are the observations independent?"
   ]
  },
  {
   "cell_type": "markdown",
   "metadata": {},
   "source": [
    "There are several ways to examine whether the observations are independent to eacher other. We can first start with ploting out the temperature according to the order of the data. If there's an obvious trends between the temperature and the order of the examination, it could imply that there might be dependence between the measurements."
   ]
  },
  {
   "cell_type": "code",
   "execution_count": 181,
   "metadata": {},
   "outputs": [
    {
     "data": {
      "image/png": "[encoded data removed]",
      "text/plain": [
       "<matplotlib.figure.Figure at 0x11cbb4b38>"
      ]
     },
     "metadata": {},
     "output_type": "display_data"
    }
   ],
   "source": [
    "df.temperature.plot();"
   ]
  },
  {
   "cell_type": "markdown",
   "metadata": {},
   "source": [
    "By looking at the plot above, it seems there's no obvious trend between the samples.\n",
    "Secondly, we can see the Quantile - quantile plot:"
   ]
  },
  {
   "cell_type": "code",
   "execution_count": 182,
   "metadata": {},
   "outputs": [
    {
     "data": {
      "image/png": "[encoded data removed]",
      "text/plain": [
       "<matplotlib.figure.Figure at 0x11cbba320>"
      ]
     },
     "metadata": {},
     "output_type": "display_data"
    }
   ],
   "source": [
    "stats.probplot(measurements, dist=\"norm\", plot=pylab);"
   ]
  },
  {
   "cell_type": "markdown",
   "metadata": {},
   "source": [
    "Since the data are accorespondant to the quantile - quantile plot, we can be more confident to say that the samples are independent to each other."
   ]
  },
  {
   "cell_type": "markdown",
   "metadata": {},
   "source": [
    "# 3. Is the true population mean really 98.6$^{\\circ}$F?"
   ]
  },
  {
   "cell_type": "markdown",
   "metadata": {},
   "source": [
    "## a. Would you use a one-sample or two-sample test? Why?"
   ]
  },
  {
   "cell_type": "markdown",
   "metadata": {},
   "source": [
    "I will simply use one-sample test to test the hypothesis. \n",
    "The reasons are the following:\n",
    "The goal of this test is to decide whether to accept or reject the null hypothesis – true population mean is 98.6$^{\\circ}$F. Since two-sample test is used to compare the means of two different samples, and one-sample test is used to compare the mean of the samples to the known value, in this case 98.6$^{\\circ}$F, We should use one-sample test in this case."
   ]
  },
  {
   "cell_type": "markdown",
   "metadata": {},
   "source": [
    "## b. In this situation, is it appropriate to use the  $t$  or  $z$  statistic?"
   ]
  },
  {
   "cell_type": "markdown",
   "metadata": {},
   "source": [
    "As mentioned previously, since the sample size is much larger than 150, we should use $z$-statistic to conduct the test."
   ]
  },
  {
   "cell_type": "code",
   "execution_count": 183,
   "metadata": {},
   "outputs": [
    {
     "name": "stdout",
     "output_type": "stream",
     "text": [
      "Sample mean:  98.25 standard error:  0.06\n"
     ]
    }
   ],
   "source": [
    "mean = test.mean()\n",
    "stdErr = test.std() / math.sqrt(len(test))\n",
    "print ('Sample mean: ', round(mean, 2), 'standard error: ', round(stdErr,2))"
   ]
  },
  {
   "cell_type": "markdown",
   "metadata": {},
   "source": [
    "To find confidence interval, let's say that we need 95% confidence interval to reject the null hypothesis."
   ]
  },
  {
   "cell_type": "code",
   "execution_count": 184,
   "metadata": {},
   "outputs": [
    {
     "name": "stdout",
     "output_type": "stream",
     "text": [
      "z-score for two sided 95% confidence interval: 1.96\n"
     ]
    }
   ],
   "source": [
    "zscore=stats.norm.ppf(0.975)\n",
    "print ('z-score for two sided 95% confidence interval:', round(zscore,2))"
   ]
  },
  {
   "cell_type": "code",
   "execution_count": 185,
   "metadata": {},
   "outputs": [
    {
     "name": "stdout",
     "output_type": "stream",
     "text": [
      "The 95% confidence interval for null hypothesis is 98.47 ~ 98.73\n"
     ]
    }
   ],
   "source": [
    "high = 98.6 + zscore*stdErr\n",
    "low = 98.6 - zscore*stdErr\n",
    "print ('The 95% confidence interval for null hypothesis is', round(low,2), '~', round(high,2))"
   ]
  },
  {
   "cell_type": "markdown",
   "metadata": {},
   "source": [
    "According to the caculation above, we found that the sample mean is within the 95% confidence interval, therefore, we cannot reject the null hypothesis."
   ]
  },
  {
   "cell_type": "markdown",
   "metadata": {},
   "source": [
    "## c. Now try using the other test. How is the result be different? Why?"
   ]
  },
  {
   "cell_type": "code",
   "execution_count": 186,
   "metadata": {},
   "outputs": [
    {
     "name": "stdout",
     "output_type": "stream",
     "text": [
      "t-score for two sided 95% confidence interval: 1.96\n"
     ]
    }
   ],
   "source": [
    "tscore = stats.t.ppf(1-0.025, 150)\n",
    "print ('t-score for two sided 95% confidence interval:', round(zscore,2))"
   ]
  },
  {
   "cell_type": "markdown",
   "metadata": {},
   "source": [
    "As we can see, the $t$-score is identical to $z$-score when rounded to the 2nd decimal, implying that the test result of $t$-statistic is identical that of $z$-statistic. Such result is as expected, since when sample size is larger than 30, the differences between the result of $t$-statistic and $z$-statistic are small enough to be ignored."
   ]
  },
  {
   "cell_type": "markdown",
   "metadata": {},
   "source": [
    "# 4. At what temperature should we consider someone's temperature to be \"abnormal\"?"
   ]
  },
  {
   "cell_type": "markdown",
   "metadata": {},
   "source": [
    "Let's assume that abnormal means that there's only less than 1% chance to observe such temperature from population. First, we can assume that the varience of samples is approximate to that of true population according to central limite theorem. We can then calculate the 99% confidence interval based on the sample standard deviation."
   ]
  },
  {
   "cell_type": "code",
   "execution_count": 200,
   "metadata": {},
   "outputs": [
    {
     "name": "stdout",
     "output_type": "stream",
     "text": [
      "The 99% confidence interval for body temperature is  96.72 ºF to  100.48 ºF.\n"
     ]
    }
   ],
   "source": [
    "std = test.std()\n",
    "zs = stats.norm.ppf(1-0.005)\n",
    "high = 98.6 + std*zs\n",
    "low = 98.6 -std*zs\n",
    "print ('The 99% confidence interval for body temperature is ',  round(low,2), 'ºF to ', round(high,2), 'ºF.')"
   ]
  },
  {
   "cell_type": "markdown",
   "metadata": {},
   "source": [
    "Therefore, we can say that temperature above 100.48$^{\\circ}$F or below 96.72$^{\\circ}$F will be considered abnormal with 99% confidence."
   ]
  },
  {
   "cell_type": "markdown",
   "metadata": {},
   "source": [
    "# 5. Is there a significant difference between males and females in normal temperature?"
   ]
  },
  {
   "cell_type": "markdown",
   "metadata": {},
   "source": [
    "To answer this question, we'll need to conduct two-sample test with null hypothesis that there's no significant difference between males and females. The significant will be define with p-value = 5%, meaning that only when there's less than 5% chance to detect such difference between two sample groups, we can then claim that the difference between two group is significant."
   ]
  },
  {
   "cell_type": "code",
   "execution_count": 188,
   "metadata": {},
   "outputs": [
    {
     "name": "stdout",
     "output_type": "stream",
     "text": [
      "The difference of sample means =  -0.29 .\n",
      "For 95% confidencd interval, if the difference of sample mean is higher than  0.25 , or lower than  -0.25 \n",
      "we can say that the there's significant difference between two groups.\n"
     ]
    }
   ],
   "source": [
    "# Calculate the descriptive statistics from two groups\n",
    "testM = df[df.gender == 'M'].temperature\n",
    "testF = df[df.gender == 'F'].temperature\n",
    "mM = testM.mean()\n",
    "varM = testM.var()\n",
    "meanvarM = varM/len(testM)\n",
    "mF = testF.mean()\n",
    "varF = testF.var()\n",
    "meanvarF = varF/len(testF)\n",
    "\n",
    "# Calculate the descriptive statistics for difference of sample means\n",
    "mDiff = mM - mF\n",
    "meanvarDiff = meanvarM + meanvarF\n",
    "stderrorDiff = math.sqrt(meanvarDiff)\n",
    "\n",
    "# Calculate the z-score for p-value = 5% (two sided)\n",
    "zs = stats.norm.ppf(1-0.025)\n",
    "\n",
    "# Calculate the confidence interval\n",
    "high = 0+zs*stderrorDiff\n",
    "low = 0-zs*stderrorDiff\n",
    "\n",
    "print('The difference of sample means = ', round(mDiff,2), '.')\n",
    "print('For 95% confidencd interval, if the difference of sample means is higher than ', round(high,2), \n",
    "      ', or lower than ', round(low,2), \"\\nwe can say that the there's significant difference between two groups.\")"
   ]
  },
  {
   "cell_type": "code",
   "execution_count": 196,
   "metadata": {},
   "outputs": [
    {
     "data": {
      "text/plain": [
       "0.010966885589093778"
      ]
     },
     "execution_count": 196,
     "metadata": {},
     "output_type": "execute_result"
    }
   ],
   "source": [
    "# Calculate the p-value\n",
    "pvalue = stats.norm.cdf(-0.29/stderrorDiff)\n",
    "pvalue"
   ]
  },
  {
   "cell_type": "markdown",
   "metadata": {},
   "source": [
    "In this case, since the difference of sample means is -0.29, lower than -0.25, we can say there's significant difference between the body temperature of Male and Female. Moreover, the p-value for -0.29 difference between the group is 1.1%."
   ]
  },
  {
   "cell_type": "code",
   "execution_count": 189,
   "metadata": {},
   "outputs": [
    {
     "data": {
      "text/plain": [
       "65"
      ]
     },
     "execution_count": 189,
     "metadata": {},
     "output_type": "execute_result"
    }
   ],
   "source": [
    "len(testM)"
   ]
  },
  {
   "cell_type": "code",
   "execution_count": 190,
   "metadata": {},
   "outputs": [
    {
     "data": {
      "text/plain": [
       "65"
      ]
     },
     "execution_count": 190,
     "metadata": {},
     "output_type": "execute_result"
    }
   ],
   "source": [
    "len(testF)"
   ]
  },
  {
   "cell_type": "markdown",
   "metadata": {},
   "source": [
    "# Conclusion\n",
    "\n",
    "The mean normal body temperature was held to be 37$^{\\circ}$C or 98.6$^{\\circ}$F for more than 120 years since it was first conceptualized and reported by Carl Wunderlich in a famous 1868 book. But, is this value statistically correct?\n",
    "\n",
    "To find it out, we randomly picked 130 people with 50% male and 50% female and measured their body temperature. We found that the average temperature of those 130 people is 98.25$^{\\circ}$F. Although this is lower than what Carl Wunderlich has claimed in his book, we have to verify that whether this difference is due to random sampling error and significant enough to reject the hypothesis that the human body temperature is 98.6$^{\\circ}$F. \n",
    "\n",
    "By applying 95% confidence interval for mean distribution using CLT, we found that if the true population has average body temperature, with the 150 sample size we have, we will have 95% chance to measure a sample mean in the range between 96.72$^{\\circ}$F to  100.48$^{\\circ}$F. Since our sample mean is 98.25$^{\\circ}$F, which is within the 95% confidence interval, we should not reject the null hypothesis that normal body temperature is 98.6$^{\\circ}$.\n",
    "\n",
    "On the other hand, when we focus on our attention to the body temperature difference between male and female, we found that the male tend to have body temperature 0.29$^{\\circ}$F higher than that of female. Moreover, the p-value of usch difference is 1.1%, suggesting that there's only 1.1% chance falling into Type I error."
   ]
  }
 ],
 "metadata": {
  "kernelspec": {
   "display_name": "Python 3",
   "language": "python",
   "name": "python3"
  },
  "language_info": {
   "codemirror_mode": {
    "name": "ipython",
    "version": 3
   },
   "file_extension": ".py",
   "mimetype": "text/x-python",
   "name": "python",
   "nbconvert_exporter": "python",
   "pygments_lexer": "ipython3",
   "version": "3.6.1"
  }
 },
 "nbformat": 4,
 "nbformat_minor": 1
}
